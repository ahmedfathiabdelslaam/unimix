{
 "cells": [
  {
   "cell_type": "code",
   "execution_count": 2,
   "id": "c5b0d54c",
   "metadata": {},
   "outputs": [],
   "source": [
    "#important libs\n",
    "import pandas as pd\n",
    "import numpy as np\n",
    "import matplotlib.pyplot as plt\n",
    "import seaborn as sns "
   ]
  },
  {
   "cell_type": "code",
   "execution_count": 4,
   "id": "fac70318",
   "metadata": {},
   "outputs": [],
   "source": [
    "#load data\n",
    "df = pd.read_excel('Data Analysis Exercise (2).xlsx')"
   ]
  },
  {
   "cell_type": "markdown",
   "id": "5eb3452d",
   "metadata": {},
   "source": [
    "# Transaction Report"
   ]
  },
  {
   "cell_type": "code",
   "execution_count": 5,
   "id": "38009940",
   "metadata": {},
   "outputs": [
    {
     "data": {
      "text/html": [
       "<div>\n",
       "<style scoped>\n",
       "    .dataframe tbody tr th:only-of-type {\n",
       "        vertical-align: middle;\n",
       "    }\n",
       "\n",
       "    .dataframe tbody tr th {\n",
       "        vertical-align: top;\n",
       "    }\n",
       "\n",
       "    .dataframe thead th {\n",
       "        text-align: right;\n",
       "    }\n",
       "</style>\n",
       "<table border=\"1\" class=\"dataframe\">\n",
       "  <thead>\n",
       "    <tr style=\"text-align: right;\">\n",
       "      <th></th>\n",
       "      <th>الشهر</th>\n",
       "      <th>المنطقة</th>\n",
       "      <th>المحطة</th>\n",
       "      <th>WOID</th>\n",
       "      <th>TrnID</th>\n",
       "      <th>Customer Code</th>\n",
       "      <th>Customer Name</th>\n",
       "      <th>Project Name</th>\n",
       "      <th>Project Location</th>\n",
       "      <th>Order Quantity</th>\n",
       "      <th>...</th>\n",
       "      <th>Pump Name</th>\n",
       "      <th>Pumped Quantity</th>\n",
       "      <th>Pump Operator Name</th>\n",
       "      <th>Truck Name</th>\n",
       "      <th>Truck Quantity</th>\n",
       "      <th>User Name</th>\n",
       "      <th>Week</th>\n",
       "      <th>Time</th>\n",
       "      <th>Mixer ahmed Ragab</th>\n",
       "      <th>TM</th>\n",
       "    </tr>\n",
       "  </thead>\n",
       "  <tbody>\n",
       "    <tr>\n",
       "      <th>0</th>\n",
       "      <td>يناير</td>\n",
       "      <td>A</td>\n",
       "      <td>A</td>\n",
       "      <td>1266.0</td>\n",
       "      <td>6640.0</td>\n",
       "      <td>100025</td>\n",
       "      <td>اوراسكوم للانشاءات</td>\n",
       "      <td>المونوريل</td>\n",
       "      <td>ZOON 3   هايبر</td>\n",
       "      <td>70.0</td>\n",
       "      <td>...</td>\n",
       "      <td>CP523-47 M</td>\n",
       "      <td>10.0</td>\n",
       "      <td>1052 عبد الحميد السيد عبد الحميد عبد العال</td>\n",
       "      <td>TM160</td>\n",
       "      <td>10.0</td>\n",
       "      <td>Ahmed Zaghloul</td>\n",
       "      <td>week 1</td>\n",
       "      <td>02:48:31</td>\n",
       "      <td>TMTM160</td>\n",
       "      <td>TM</td>\n",
       "    </tr>\n",
       "    <tr>\n",
       "      <th>1</th>\n",
       "      <td>يناير</td>\n",
       "      <td>A</td>\n",
       "      <td>A</td>\n",
       "      <td>1266.0</td>\n",
       "      <td>6641.0</td>\n",
       "      <td>100025</td>\n",
       "      <td>اوراسكوم للانشاءات</td>\n",
       "      <td>المونوريل</td>\n",
       "      <td>ZOON 3   هايبر</td>\n",
       "      <td>70.0</td>\n",
       "      <td>...</td>\n",
       "      <td>CP523-47 M</td>\n",
       "      <td>10.0</td>\n",
       "      <td>1052 عبد الحميد السيد عبد الحميد عبد العال</td>\n",
       "      <td>TM168</td>\n",
       "      <td>10.0</td>\n",
       "      <td>Ahmed Zaghloul</td>\n",
       "      <td>week 1</td>\n",
       "      <td>02:48:31</td>\n",
       "      <td>TMTM168</td>\n",
       "      <td>TM</td>\n",
       "    </tr>\n",
       "    <tr>\n",
       "      <th>2</th>\n",
       "      <td>يناير</td>\n",
       "      <td>A</td>\n",
       "      <td>A</td>\n",
       "      <td>1266.0</td>\n",
       "      <td>6642.0</td>\n",
       "      <td>100025</td>\n",
       "      <td>اوراسكوم للانشاءات</td>\n",
       "      <td>المونوريل</td>\n",
       "      <td>ZOON 3   هايبر</td>\n",
       "      <td>70.0</td>\n",
       "      <td>...</td>\n",
       "      <td>CP523-47 M</td>\n",
       "      <td>10.0</td>\n",
       "      <td>1052 عبد الحميد السيد عبد الحميد عبد العال</td>\n",
       "      <td>TM148</td>\n",
       "      <td>10.0</td>\n",
       "      <td>Ahmed Zaghloul</td>\n",
       "      <td>week 1</td>\n",
       "      <td>02:48:31</td>\n",
       "      <td>TMTM148</td>\n",
       "      <td>TM</td>\n",
       "    </tr>\n",
       "    <tr>\n",
       "      <th>3</th>\n",
       "      <td>يناير</td>\n",
       "      <td>A</td>\n",
       "      <td>A</td>\n",
       "      <td>1266.0</td>\n",
       "      <td>6643.0</td>\n",
       "      <td>100025</td>\n",
       "      <td>اوراسكوم للانشاءات</td>\n",
       "      <td>المونوريل</td>\n",
       "      <td>ZOON 3   هايبر</td>\n",
       "      <td>70.0</td>\n",
       "      <td>...</td>\n",
       "      <td>CP523-47 M</td>\n",
       "      <td>10.0</td>\n",
       "      <td>1052 عبد الحميد السيد عبد الحميد عبد العال</td>\n",
       "      <td>TM183</td>\n",
       "      <td>10.0</td>\n",
       "      <td>Ahmed Zaghloul</td>\n",
       "      <td>week 1</td>\n",
       "      <td>02:48:31</td>\n",
       "      <td>TMTM183</td>\n",
       "      <td>TM</td>\n",
       "    </tr>\n",
       "    <tr>\n",
       "      <th>4</th>\n",
       "      <td>يناير</td>\n",
       "      <td>A</td>\n",
       "      <td>A</td>\n",
       "      <td>1266.0</td>\n",
       "      <td>6644.0</td>\n",
       "      <td>100025</td>\n",
       "      <td>اوراسكوم للانشاءات</td>\n",
       "      <td>المونوريل</td>\n",
       "      <td>ZOON 3   هايبر</td>\n",
       "      <td>70.0</td>\n",
       "      <td>...</td>\n",
       "      <td>CP523-47 M</td>\n",
       "      <td>10.0</td>\n",
       "      <td>1052 عبد الحميد السيد عبد الحميد عبد العال</td>\n",
       "      <td>TM127</td>\n",
       "      <td>10.0</td>\n",
       "      <td>Ahmed Zaghloul</td>\n",
       "      <td>week 1</td>\n",
       "      <td>02:48:31</td>\n",
       "      <td>TMTM127</td>\n",
       "      <td>TM</td>\n",
       "    </tr>\n",
       "  </tbody>\n",
       "</table>\n",
       "<p>5 rows × 31 columns</p>\n",
       "</div>"
      ],
      "text/plain": [
       "   الشهر المنطقة المحطة    WOID   TrnID Customer Code       Customer Name  \\\n",
       "0  يناير       A      A  1266.0  6640.0        100025  اوراسكوم للانشاءات   \n",
       "1  يناير       A      A  1266.0  6641.0        100025  اوراسكوم للانشاءات   \n",
       "2  يناير       A      A  1266.0  6642.0        100025  اوراسكوم للانشاءات   \n",
       "3  يناير       A      A  1266.0  6643.0        100025  اوراسكوم للانشاءات   \n",
       "4  يناير       A      A  1266.0  6644.0        100025  اوراسكوم للانشاءات   \n",
       "\n",
       "  Project Name Project Location  Order Quantity  ...   Pump Name  \\\n",
       "0    المونوريل   ZOON 3   هايبر            70.0  ...  CP523-47 M   \n",
       "1    المونوريل   ZOON 3   هايبر            70.0  ...  CP523-47 M   \n",
       "2    المونوريل   ZOON 3   هايبر            70.0  ...  CP523-47 M   \n",
       "3    المونوريل   ZOON 3   هايبر            70.0  ...  CP523-47 M   \n",
       "4    المونوريل   ZOON 3   هايبر            70.0  ...  CP523-47 M   \n",
       "\n",
       "   Pumped Quantity                          Pump Operator Name Truck Name  \\\n",
       "0             10.0  1052 عبد الحميد السيد عبد الحميد عبد العال      TM160   \n",
       "1             10.0  1052 عبد الحميد السيد عبد الحميد عبد العال      TM168   \n",
       "2             10.0  1052 عبد الحميد السيد عبد الحميد عبد العال      TM148   \n",
       "3             10.0  1052 عبد الحميد السيد عبد الحميد عبد العال      TM183   \n",
       "4             10.0  1052 عبد الحميد السيد عبد الحميد عبد العال      TM127   \n",
       "\n",
       "  Truck Quantity       User Name    Week      Time Mixer ahmed Ragab  TM  \n",
       "0           10.0  Ahmed Zaghloul  week 1  02:48:31           TMTM160  TM  \n",
       "1           10.0  Ahmed Zaghloul  week 1  02:48:31           TMTM168  TM  \n",
       "2           10.0  Ahmed Zaghloul  week 1  02:48:31           TMTM148  TM  \n",
       "3           10.0  Ahmed Zaghloul  week 1  02:48:31           TMTM183  TM  \n",
       "4           10.0  Ahmed Zaghloul  week 1  02:48:31           TMTM127  TM  \n",
       "\n",
       "[5 rows x 31 columns]"
      ]
     },
     "execution_count": 5,
     "metadata": {},
     "output_type": "execute_result"
    }
   ],
   "source": [
    "#read data \n",
    "df.head()"
   ]
  },
  {
   "cell_type": "code",
   "execution_count": 6,
   "id": "35f2c6ab",
   "metadata": {},
   "outputs": [
    {
     "data": {
      "text/html": [
       "<div>\n",
       "<style scoped>\n",
       "    .dataframe tbody tr th:only-of-type {\n",
       "        vertical-align: middle;\n",
       "    }\n",
       "\n",
       "    .dataframe tbody tr th {\n",
       "        vertical-align: top;\n",
       "    }\n",
       "\n",
       "    .dataframe thead th {\n",
       "        text-align: right;\n",
       "    }\n",
       "</style>\n",
       "<table border=\"1\" class=\"dataframe\">\n",
       "  <thead>\n",
       "    <tr style=\"text-align: right;\">\n",
       "      <th></th>\n",
       "      <th>الشهر</th>\n",
       "      <th>المنطقة</th>\n",
       "      <th>المحطة</th>\n",
       "      <th>WOID</th>\n",
       "      <th>TrnID</th>\n",
       "      <th>Customer Code</th>\n",
       "      <th>Customer Name</th>\n",
       "      <th>Project Name</th>\n",
       "      <th>Project Location</th>\n",
       "      <th>Order Quantity</th>\n",
       "      <th>...</th>\n",
       "      <th>Pump Name</th>\n",
       "      <th>Pumped Quantity</th>\n",
       "      <th>Pump Operator Name</th>\n",
       "      <th>Truck Name</th>\n",
       "      <th>Truck Quantity</th>\n",
       "      <th>User Name</th>\n",
       "      <th>Week</th>\n",
       "      <th>Time</th>\n",
       "      <th>Mixer ahmed Ragab</th>\n",
       "      <th>TM</th>\n",
       "    </tr>\n",
       "  </thead>\n",
       "  <tbody>\n",
       "    <tr>\n",
       "      <th>38644</th>\n",
       "      <td>إبريل</td>\n",
       "      <td>F</td>\n",
       "      <td>F</td>\n",
       "      <td>5141.0</td>\n",
       "      <td>33285.0</td>\n",
       "      <td>100025</td>\n",
       "      <td>اوراسكوم للانشاءات</td>\n",
       "      <td>NaN</td>\n",
       "      <td>قاعده محطه 12</td>\n",
       "      <td>420.0</td>\n",
       "      <td>...</td>\n",
       "      <td>مضخه خارجيه</td>\n",
       "      <td>0.0</td>\n",
       "      <td>NaN</td>\n",
       "      <td>TM180</td>\n",
       "      <td>10.0</td>\n",
       "      <td>محمودعبدالمنعم احمد</td>\n",
       "      <td>week 17</td>\n",
       "      <td>22:54:56</td>\n",
       "      <td>TMTM180</td>\n",
       "      <td>TM</td>\n",
       "    </tr>\n",
       "    <tr>\n",
       "      <th>38645</th>\n",
       "      <td>إبريل</td>\n",
       "      <td>F</td>\n",
       "      <td>F</td>\n",
       "      <td>5141.0</td>\n",
       "      <td>33286.0</td>\n",
       "      <td>100025</td>\n",
       "      <td>اوراسكوم للانشاءات</td>\n",
       "      <td>NaN</td>\n",
       "      <td>قاعده محطه 12</td>\n",
       "      <td>420.0</td>\n",
       "      <td>...</td>\n",
       "      <td>مضخه خارجيه</td>\n",
       "      <td>0.0</td>\n",
       "      <td>NaN</td>\n",
       "      <td>TM182</td>\n",
       "      <td>10.0</td>\n",
       "      <td>محمودعبدالمنعم احمد</td>\n",
       "      <td>week 17</td>\n",
       "      <td>22:57:34</td>\n",
       "      <td>TMTM182</td>\n",
       "      <td>TM</td>\n",
       "    </tr>\n",
       "    <tr>\n",
       "      <th>38646</th>\n",
       "      <td>إبريل</td>\n",
       "      <td>F</td>\n",
       "      <td>F</td>\n",
       "      <td>5141.0</td>\n",
       "      <td>33287.0</td>\n",
       "      <td>100025</td>\n",
       "      <td>اوراسكوم للانشاءات</td>\n",
       "      <td>NaN</td>\n",
       "      <td>قاعده محطه 12</td>\n",
       "      <td>420.0</td>\n",
       "      <td>...</td>\n",
       "      <td>مضخه خارجيه</td>\n",
       "      <td>0.0</td>\n",
       "      <td>NaN</td>\n",
       "      <td>TM182</td>\n",
       "      <td>10.0</td>\n",
       "      <td>محمودعبدالمنعم احمد</td>\n",
       "      <td>week 17</td>\n",
       "      <td>23:19:00</td>\n",
       "      <td>TMTM182</td>\n",
       "      <td>TM</td>\n",
       "    </tr>\n",
       "    <tr>\n",
       "      <th>38647</th>\n",
       "      <td>إبريل</td>\n",
       "      <td>F</td>\n",
       "      <td>F</td>\n",
       "      <td>5141.0</td>\n",
       "      <td>33288.0</td>\n",
       "      <td>100025</td>\n",
       "      <td>اوراسكوم للانشاءات</td>\n",
       "      <td>NaN</td>\n",
       "      <td>قاعده محطه 12</td>\n",
       "      <td>420.0</td>\n",
       "      <td>...</td>\n",
       "      <td>مضخه خارجيه</td>\n",
       "      <td>0.0</td>\n",
       "      <td>NaN</td>\n",
       "      <td>TM181</td>\n",
       "      <td>10.0</td>\n",
       "      <td>محمودعبدالمنعم احمد</td>\n",
       "      <td>week 17</td>\n",
       "      <td>23:26:22</td>\n",
       "      <td>TMTM181</td>\n",
       "      <td>TM</td>\n",
       "    </tr>\n",
       "    <tr>\n",
       "      <th>38648</th>\n",
       "      <td>إبريل</td>\n",
       "      <td>F</td>\n",
       "      <td>F</td>\n",
       "      <td>5141.0</td>\n",
       "      <td>33289.0</td>\n",
       "      <td>100025</td>\n",
       "      <td>اوراسكوم للانشاءات</td>\n",
       "      <td>NaN</td>\n",
       "      <td>قاعده محطه 12</td>\n",
       "      <td>420.0</td>\n",
       "      <td>...</td>\n",
       "      <td>مضخه خارجيه</td>\n",
       "      <td>0.0</td>\n",
       "      <td>NaN</td>\n",
       "      <td>TM178</td>\n",
       "      <td>10.0</td>\n",
       "      <td>محمودعبدالمنعم احمد</td>\n",
       "      <td>week 17</td>\n",
       "      <td>23:37:19</td>\n",
       "      <td>TMTM178</td>\n",
       "      <td>TM</td>\n",
       "    </tr>\n",
       "  </tbody>\n",
       "</table>\n",
       "<p>5 rows × 31 columns</p>\n",
       "</div>"
      ],
      "text/plain": [
       "       الشهر المنطقة المحطة    WOID    TrnID Customer Code  \\\n",
       "38644  إبريل       F      F  5141.0  33285.0        100025   \n",
       "38645  إبريل       F      F  5141.0  33286.0        100025   \n",
       "38646  إبريل       F      F  5141.0  33287.0        100025   \n",
       "38647  إبريل       F      F  5141.0  33288.0        100025   \n",
       "38648  إبريل       F      F  5141.0  33289.0        100025   \n",
       "\n",
       "            Customer Name Project Name Project Location  Order Quantity  ...  \\\n",
       "38644  اوراسكوم للانشاءات          NaN    قاعده محطه 12           420.0  ...   \n",
       "38645  اوراسكوم للانشاءات          NaN    قاعده محطه 12           420.0  ...   \n",
       "38646  اوراسكوم للانشاءات          NaN    قاعده محطه 12           420.0  ...   \n",
       "38647  اوراسكوم للانشاءات          NaN    قاعده محطه 12           420.0  ...   \n",
       "38648  اوراسكوم للانشاءات          NaN    قاعده محطه 12           420.0  ...   \n",
       "\n",
       "         Pump Name  Pumped Quantity Pump Operator Name Truck Name  \\\n",
       "38644  مضخه خارجيه              0.0                NaN      TM180   \n",
       "38645  مضخه خارجيه              0.0                NaN      TM182   \n",
       "38646  مضخه خارجيه              0.0                NaN      TM182   \n",
       "38647  مضخه خارجيه              0.0                NaN      TM181   \n",
       "38648  مضخه خارجيه              0.0                NaN      TM178   \n",
       "\n",
       "      Truck Quantity            User Name     Week      Time  \\\n",
       "38644           10.0  محمودعبدالمنعم احمد  week 17  22:54:56   \n",
       "38645           10.0  محمودعبدالمنعم احمد  week 17  22:57:34   \n",
       "38646           10.0  محمودعبدالمنعم احمد  week 17  23:19:00   \n",
       "38647           10.0  محمودعبدالمنعم احمد  week 17  23:26:22   \n",
       "38648           10.0  محمودعبدالمنعم احمد  week 17  23:37:19   \n",
       "\n",
       "      Mixer ahmed Ragab  TM  \n",
       "38644           TMTM180  TM  \n",
       "38645           TMTM182  TM  \n",
       "38646           TMTM182  TM  \n",
       "38647           TMTM181  TM  \n",
       "38648           TMTM178  TM  \n",
       "\n",
       "[5 rows x 31 columns]"
      ]
     },
     "execution_count": 6,
     "metadata": {},
     "output_type": "execute_result"
    }
   ],
   "source": [
    "df.tail()"
   ]
  },
  {
   "cell_type": "code",
   "execution_count": 7,
   "id": "a75f940c",
   "metadata": {},
   "outputs": [
    {
     "data": {
      "text/plain": [
       "Index(['الشهر', 'المنطقة', 'المحطة', 'WOID', 'TrnID', 'Customer Code',\n",
       "       'Customer Name', 'Project Name', 'Project Location', 'Order Quantity',\n",
       "       'Cement Type', 'Cement Content', 'Strength', 'Early Strength', 'Ice',\n",
       "       'Temperature', 'Cementitious Materials', 'Special Admixtures',\n",
       "       'WorkorderTime', 'الورديه', 'Driver Name', 'Pump Name',\n",
       "       'Pumped Quantity', 'Pump Operator Name', 'Truck Name', 'Truck Quantity',\n",
       "       'User Name', 'Week', 'Time', 'Mixer ahmed Ragab', 'TM'],\n",
       "      dtype='object')"
      ]
     },
     "execution_count": 7,
     "metadata": {},
     "output_type": "execute_result"
    }
   ],
   "source": [
    "#check columns names\n",
    "df.columns"
   ]
  },
  {
   "cell_type": "code",
   "execution_count": 8,
   "id": "286dcba3",
   "metadata": {},
   "outputs": [
    {
     "data": {
      "text/plain": [
       "الشهر                         0\n",
       "المنطقة                       0\n",
       "المحطة                        0\n",
       "WOID                        208\n",
       "TrnID                       208\n",
       "Customer Code               212\n",
       "Customer Name                 0\n",
       "Project Name              37894\n",
       "Project Location            124\n",
       "Order Quantity                0\n",
       "Cement Type                   0\n",
       "Cement Content               57\n",
       "Strength                    486\n",
       "Early Strength            35122\n",
       "Ice                       26592\n",
       "Temperature                   1\n",
       "Cementitious Materials    34243\n",
       "Special Admixtures        34386\n",
       "WorkorderTime                 0\n",
       "الورديه                       0\n",
       "Driver Name                4403\n",
       "Pump Name                     0\n",
       "Pumped Quantity               0\n",
       "Pump Operator Name        19183\n",
       "Truck Name                    0\n",
       "Truck Quantity                0\n",
       "User Name                     0\n",
       "Week                          0\n",
       "Time                          0\n",
       "Mixer ahmed Ragab             0\n",
       "TM                            0\n",
       "dtype: int64"
      ]
     },
     "execution_count": 8,
     "metadata": {},
     "output_type": "execute_result"
    }
   ],
   "source": [
    "#check nulls in columns\n",
    "df.isnull().sum()"
   ]
  },
  {
   "cell_type": "code",
   "execution_count": 9,
   "id": "9def574c",
   "metadata": {},
   "outputs": [
    {
     "name": "stdout",
     "output_type": "stream",
     "text": [
      "<class 'pandas.core.frame.DataFrame'>\n",
      "RangeIndex: 38649 entries, 0 to 38648\n",
      "Data columns (total 31 columns):\n",
      " #   Column                  Non-Null Count  Dtype         \n",
      "---  ------                  --------------  -----         \n",
      " 0   الشهر                   38649 non-null  object        \n",
      " 1   المنطقة                 38649 non-null  object        \n",
      " 2   المحطة                  38649 non-null  object        \n",
      " 3   WOID                    38441 non-null  float64       \n",
      " 4   TrnID                   38441 non-null  float64       \n",
      " 5   Customer Code           38437 non-null  object        \n",
      " 6   Customer Name           38649 non-null  object        \n",
      " 7   Project Name            755 non-null    object        \n",
      " 8   Project Location        38525 non-null  object        \n",
      " 9   Order Quantity          38649 non-null  float64       \n",
      " 10  Cement Type             38649 non-null  object        \n",
      " 11  Cement Content          38592 non-null  float64       \n",
      " 12  Strength                38163 non-null  object        \n",
      " 13  Early Strength          3527 non-null   object        \n",
      " 14  Ice                     12057 non-null  object        \n",
      " 15  Temperature             38648 non-null  float64       \n",
      " 16  Cementitious Materials  4406 non-null   object        \n",
      " 17  Special Admixtures      4263 non-null   object        \n",
      " 18  WorkorderTime           38649 non-null  datetime64[ns]\n",
      " 19  الورديه                 38649 non-null  object        \n",
      " 20  Driver Name             34246 non-null  object        \n",
      " 21  Pump Name               38649 non-null  object        \n",
      " 22  Pumped Quantity         38649 non-null  float64       \n",
      " 23  Pump Operator Name      19466 non-null  object        \n",
      " 24  Truck Name              38649 non-null  object        \n",
      " 25  Truck Quantity          38649 non-null  float64       \n",
      " 26  User Name               38649 non-null  object        \n",
      " 27  Week                    38649 non-null  object        \n",
      " 28  Time                    38649 non-null  object        \n",
      " 29  Mixer ahmed Ragab       38649 non-null  object        \n",
      " 30  TM                      38649 non-null  object        \n",
      "dtypes: datetime64[ns](1), float64(7), object(23)\n",
      "memory usage: 9.1+ MB\n"
     ]
    }
   ],
   "source": [
    "df.info()"
   ]
  },
  {
   "cell_type": "code",
   "execution_count": 10,
   "id": "26df767c",
   "metadata": {},
   "outputs": [
    {
     "data": {
      "text/plain": [
       "15"
      ]
     },
     "execution_count": 10,
     "metadata": {},
     "output_type": "execute_result"
    }
   ],
   "source": [
    "#check duplicated\n",
    "df.duplicated().sum()"
   ]
  },
  {
   "cell_type": "code",
   "execution_count": 11,
   "id": "c33cdf17",
   "metadata": {},
   "outputs": [
    {
     "data": {
      "text/plain": [
       "TM    38649\n",
       "Name: TM, dtype: int64"
      ]
     },
     "execution_count": 11,
     "metadata": {},
     "output_type": "execute_result"
    }
   ],
   "source": [
    "#check what is (TM) column contain?\n",
    "df.TM.value_counts()"
   ]
  },
  {
   "cell_type": "code",
   "execution_count": 12,
   "id": "1e83d703",
   "metadata": {},
   "outputs": [
    {
     "data": {
      "text/plain": [
       "M    7069\n",
       "F    6434\n",
       "D    5103\n",
       "C    3996\n",
       "I    3470\n",
       "A    2860\n",
       "B    2260\n",
       "H    2113\n",
       "E    1575\n",
       "G    1495\n",
       "J    1155\n",
       "N     945\n",
       "K     148\n",
       "L      26\n",
       "Name: المحطة, dtype: int64"
      ]
     },
     "execution_count": 12,
     "metadata": {},
     "output_type": "execute_result"
    }
   ],
   "source": [
    "#check what is (المحطة) column contain?\n",
    "df.المحطة.value_counts()"
   ]
  },
  {
   "cell_type": "code",
   "execution_count": 64,
   "id": "5ae361f8",
   "metadata": {},
   "outputs": [
    {
     "data": {
      "text/plain": [
       "Text(0, 0.5, 'Count')"
      ]
     },
     "execution_count": 64,
     "metadata": {},
     "output_type": "execute_result"
    },
    {
     "data": {
      "image/png": "[encoded data removed]",
      "text/plain": [
       "<Figure size 432x288 with 1 Axes>"
      ]
     },
     "metadata": {
      "needs_background": "light"
     },
     "output_type": "display_data"
    }
   ],
   "source": [
    "#check what is (المحطة) column contain by using graph?\n",
    "df.المحطة.value_counts().plot(kind = 'bar')\n",
    "plt.title('The Most Production Stations')\n",
    "plt.xlabel('Stations')\n",
    "plt.ylabel('Count')"
   ]
  },
  {
   "cell_type": "code",
   "execution_count": 14,
   "id": "040bfe16",
   "metadata": {},
   "outputs": [
    {
     "data": {
      "text/plain": [
       "array(['A', 'G', 'N', 'M', 'H', 'I', 'F', 'B', 'D', 'E', 'C', 'J', 'K',\n",
       "       'L'], dtype=object)"
      ]
     },
     "execution_count": 14,
     "metadata": {},
     "output_type": "execute_result"
    }
   ],
   "source": [
    "#check the unique values in (المحطة) column \n",
    "df.المحطة.unique()"
   ]
  },
  {
   "cell_type": "code",
   "execution_count": 15,
   "id": "7f8bca99",
   "metadata": {},
   "outputs": [
    {
     "data": {
      "text/plain": [
       "array(['يناير', 'فبراير', 'مارس', 'إبريل'], dtype=object)"
      ]
     },
     "execution_count": 15,
     "metadata": {},
     "output_type": "execute_result"
    }
   ],
   "source": [
    "#check the unique values in (الشهر) column \n",
    "df.الشهر.unique()"
   ]
  },
  {
   "cell_type": "code",
   "execution_count": 17,
   "id": "ad6c407d",
   "metadata": {},
   "outputs": [
    {
     "data": {
      "text/plain": [
       "array([nan, '5 Days Early Strength', '3 Days Early Strength',\n",
       "       '7 Days Early Strength', '5 Day Early Strenth', '430',\n",
       "       '4 Day Early Strength', '4 Days Early Strength',\n",
       "       '3DaysEarlyStrength%80'], dtype=object)"
      ]
     },
     "execution_count": 17,
     "metadata": {},
     "output_type": "execute_result"
    }
   ],
   "source": [
    "#check the unique values in (Early Strength) column \n",
    "df['Early Strength'].unique()"
   ]
  },
  {
   "cell_type": "code",
   "execution_count": 18,
   "id": "00ed6746",
   "metadata": {},
   "outputs": [
    {
     "data": {
      "text/plain": [
       "<AxesSubplot:>"
      ]
     },
     "execution_count": 18,
     "metadata": {},
     "output_type": "execute_result"
    },
    {
     "data": {
      "image/png": "[encoded data removed]",
      "text/plain": [
       "<Figure size 432x288 with 1 Axes>"
      ]
     },
     "metadata": {
      "needs_background": "light"
     },
     "output_type": "display_data"
    }
   ],
   "source": [
    "#check what is (Early Strength) column contain and what is the outliers data to delete or replace it with correct data by using graph?\n",
    "df['Early Strength'].value_counts().plot(kind = 'bar')"
   ]
  },
  {
   "cell_type": "code",
   "execution_count": 71,
   "id": "c6a2b8f2",
   "metadata": {},
   "outputs": [
    {
     "data": {
      "text/plain": [
       "الشهر                 0\n",
       "المنطقة               0\n",
       "المحطة                0\n",
       "WOID                  0\n",
       "TrnID                 0\n",
       "Customer Code         0\n",
       "Customer Name         0\n",
       "Project Name          0\n",
       "Project Location      0\n",
       "Order Quantity        0\n",
       "Cement Type           0\n",
       "Cement Content        0\n",
       "Strength              0\n",
       "Early Strength        0\n",
       "Ice                   0\n",
       "Special Admixtures    0\n",
       "WorkorderTime         0\n",
       "الورديه               0\n",
       "Driver Name           0\n",
       "Pump Name             0\n",
       "Pumped Quantity       0\n",
       "Truck Name            0\n",
       "Truck Quantity        0\n",
       "Week                  0\n",
       "Time                  0\n",
       "Mixer ahmed Ragab     0\n",
       "dtype: int64"
      ]
     },
     "execution_count": 71,
     "metadata": {},
     "output_type": "execute_result"
    }
   ],
   "source": [
    "df[df['Early Strength'] == 430].count()"
   ]
  },
  {
   "cell_type": "code",
   "execution_count": 19,
   "id": "4ab17153",
   "metadata": {},
   "outputs": [
    {
     "data": {
      "text/plain": [
       "450               12272\n",
       "300                9212\n",
       "400                6228\n",
       "350                4184\n",
       "500                1650\n",
       "200                1301\n",
       "MOR                 601\n",
       "150                 559\n",
       "250                 510\n",
       "225                 339\n",
       "0                   265\n",
       "SPECIAL MORTER      263\n",
       "120                 211\n",
       "180                 203\n",
       "240                  87\n",
       "210                  70\n",
       "370                  62\n",
       "600                  43\n",
       "280                  35\n",
       "100                  17\n",
       "45                   17\n",
       "CMOR                 12\n",
       "4504                  6\n",
       "430                   5\n",
       "50-100                3\n",
       "30                    2\n",
       "500                   2\n",
       "70                    2\n",
       "35                    1\n",
       "80                    1\n",
       "Name: Strength, dtype: int64"
      ]
     },
     "execution_count": 19,
     "metadata": {},
     "output_type": "execute_result"
    }
   ],
   "source": [
    "#check the unique values in (Strength) column \n",
    "df.Strength.value_counts()"
   ]
  },
  {
   "cell_type": "code",
   "execution_count": 83,
   "id": "f6b50f47",
   "metadata": {},
   "outputs": [
    {
     "data": {
      "text/plain": [
       "Text(0, 0.5, 'Count')"
      ]
     },
     "execution_count": 83,
     "metadata": {},
     "output_type": "execute_result"
    },
    {
     "data": {
      "image/png": "[encoded data removed]",
      "text/plain": [
       "<Figure size 432x288 with 1 Axes>"
      ]
     },
     "metadata": {
      "needs_background": "light"
     },
     "output_type": "display_data"
    }
   ],
   "source": [
    "#check what is (Strength) column contain and what is the outliers data to delete or replace it with correct data?\n",
    "df.Strength.value_counts().plot(kind = 'bar')\n",
    "plt.title('The Most Strenght Required')\n",
    "plt.xlabel('Strength')\n",
    "plt.ylabel('Count')"
   ]
  },
  {
   "cell_type": "code",
   "execution_count": 21,
   "id": "3635a223",
   "metadata": {},
   "outputs": [
    {
     "data": {
      "text/plain": [
       "count     38163\n",
       "unique       30\n",
       "top         450\n",
       "freq      12272\n",
       "Name: Strength, dtype: object"
      ]
     },
     "execution_count": 21,
     "metadata": {},
     "output_type": "execute_result"
    }
   ],
   "source": [
    "df.Strength.describe()"
   ]
  },
  {
   "cell_type": "code",
   "execution_count": 22,
   "id": "4e561660",
   "metadata": {},
   "outputs": [
    {
     "data": {
      "text/plain": [
       "13:18:12    61\n",
       "16:30:35    48\n",
       "07:41:16    47\n",
       "00:41:46    40\n",
       "11:01:09    38\n",
       "            ..\n",
       "13:58:38     1\n",
       "11:10:40     1\n",
       "22:38:41     1\n",
       "16:19:03     1\n",
       "02:41:28     1\n",
       "Name: Time, Length: 26353, dtype: int64"
      ]
     },
     "execution_count": 22,
     "metadata": {},
     "output_type": "execute_result"
    }
   ],
   "source": [
    "#check what is (Time) column contain?\n",
    "df.Time.value_counts()"
   ]
  },
  {
   "cell_type": "code",
   "execution_count": 23,
   "id": "796d47f3",
   "metadata": {},
   "outputs": [
    {
     "data": {
      "text/plain": [
       "اوراسكوم للانشاءات                               15411\n",
       "ريديكون للتعمير                                   4025\n",
       "اتحاد روادالهندسه الحديثه                         2714\n",
       "جاما للانشاءات                                    2472\n",
       "عبد السلام عبد الحميد الفقى وشركاه                2108\n",
       "دفكون للمقاولات و الانشاءات                       1571\n",
       "اتش ايه للطرق والكبارى                            1329\n",
       "A.S.G.C. LLENSHAT                                 1195\n",
       "الحلول الذكية للتجارة والصناعة                     932\n",
       "المقاولون العرب -عثمان احمد عثمان وشركاه           750\n",
       "Greater Cairo Metro                                619\n",
       "دار العالمية للتشيد والبناء                        600\n",
       "ايديكس الدولية للهندسة والمقاولات                  548\n",
       "الرواء للمقاولات و التوريدات                       490\n",
       "DETAC                                              258\n",
       "يونى ميكس - قطاع الخرسانة                          252\n",
       "البدير للانشاءت                                    246\n",
       "شركه الحاذق                                        207\n",
       "جمعية مدينة نصر                                    201\n",
       "سوليد للأنشاءت                                     191\n",
       "مدرسة صحارا الدوليه بالعاصمه الاداريه              186\n",
       "البحر الاحمر للمقاولات                             171\n",
       "ارجينزا                                            169\n",
       "تفاصيل  للانشاءات                                  167\n",
       "كونكريت للهندسه والمقاولات                         154\n",
       "مشروع البنية التحتية تحالف حسن علام واوراسكوم      148\n",
       "مصرلاعمال الاسمنت المسلح                           148\n",
       "رواد الهندسه الحديثه                               140\n",
       "شركه النمر                                         129\n",
       "سامكريت مصر - مهندسون ومقاولون                     129\n",
       "التعاون المشترك اوراسكوم-ماتيتو                    113\n",
       "شركه كونكريت للهندسه للمقاولات                      99\n",
       "الصفا للاعمال المتكامله                             85\n",
       "رواد الهندسة الحديثة .الكوبري الساحلي               73\n",
       "الغرابلى للاعمال الهندسية                           63\n",
       "الحازق                                              59\n",
       "CAIRO METRO LINE3                                   57\n",
       "شركه بيلرز                                          46\n",
       "دار السعيد للمقاولات                                44\n",
       "السواعد للانشاءات Al Sawaed Co                      41\n",
       "الخرافي ناشونال                                     37\n",
       "ابناء حسن علام                                      31\n",
       "سيفيل للمقاولات                                     29\n",
       "مدينه نصر للاسكان والتعمير                          25\n",
       "الهندسيه للصناعات و التشيد - سياك                   24\n",
       "الدوليه للاستيراد و المقاولات                       23\n",
       "رايه للمقاولات المتكامله                            22\n",
       "النيل والاهرام                                      20\n",
       "اركريدون                                            16\n",
       "بيلرز كونستر كشنز                                   14\n",
       "أوراسكوم ماتيتو                                     12\n",
       "السراج                                              11\n",
       "UNIMIX                                              10\n",
       "قاصد خير للتوريد العموميه                           10\n",
       "شركة الرزق للمقاولات العمومية                        5\n",
       "المقاولون المصريون                                   4\n",
       "المكتب الفني للمقاولات العامة                        4\n",
       "أحمد فؤاد محمد محمد                                  3\n",
       "اي سي سي للطاقه والمقاولات                           2\n",
       "UNI BUILDشركة يوني بيلد للصناعة                      2\n",
       "مينا جورج عوض                                        2\n",
       "لاند لورد للمقاولات العامه                           1\n",
       "محمود صلاح محمد احمد علام                            1\n",
       "رويال تنت للخيام المعدنية                            1\n",
       "Name: Customer Name, dtype: int64"
      ]
     },
     "execution_count": 23,
     "metadata": {},
     "output_type": "execute_result"
    }
   ],
   "source": [
    "#check what is (Customer Name) column contain and what is the outliers data to delete or replace it with correct data?\n",
    "pd.set_option('display.max_rows', 500)\n",
    "df['Customer Name'].value_counts()"
   ]
  },
  {
   "cell_type": "code",
   "execution_count": 24,
   "id": "30a96209",
   "metadata": {},
   "outputs": [
    {
     "data": {
      "text/plain": [
       "بلايا                 2520\n",
       "مجرى العيون           2487\n",
       "الكوبري الساحلي       2081\n",
       "الوراق                1478\n",
       "ميناء السخنه          1241\n",
       "                      ... \n",
       "100                      1\n",
       "محطه 9/ مورتر            1\n",
       "مجري االعيون             1\n",
       "جاما s1                  1\n",
       "السفارة البريطانية       1\n",
       "Name: Project Location, Length: 733, dtype: int64"
      ]
     },
     "execution_count": 24,
     "metadata": {},
     "output_type": "execute_result"
    }
   ],
   "source": [
    "#check what is (Project Location) column contain and what is the outliers data to delete or replace it with correct data?\n",
    "df['Project Location'].value_counts()"
   ]
  },
  {
   "cell_type": "code",
   "execution_count": 25,
   "id": "77e85edb",
   "metadata": {},
   "outputs": [
    {
     "data": {
      "text/plain": [
       "المونوريل     740\n",
       "                5\n",
       "جاما            4\n",
       "المونورريل      3\n",
       "المونورىل       2\n",
       "الضبعه          1\n",
       "Name: Project Name, dtype: int64"
      ]
     },
     "execution_count": 25,
     "metadata": {},
     "output_type": "execute_result"
    }
   ],
   "source": [
    "#cheak what is (Project Name) column contain and what is the outliers data to delete or replace it with correct data?\n",
    "df['Project Name'].value_counts()"
   ]
  },
  {
   "cell_type": "code",
   "execution_count": 26,
   "id": "05373bce",
   "metadata": {},
   "outputs": [
    {
     "data": {
      "text/plain": [
       "count    38649.000000\n",
       "mean       210.835390\n",
       "std        224.065829\n",
       "min          0.000000\n",
       "25%         75.000000\n",
       "50%        150.000000\n",
       "75%        300.000000\n",
       "max       2300.000000\n",
       "Name: Order Quantity, dtype: float64"
      ]
     },
     "execution_count": 26,
     "metadata": {},
     "output_type": "execute_result"
    }
   ],
   "source": [
    "#describe order quantity data \n",
    "df['Order Quantity'].describe()"
   ]
  },
  {
   "cell_type": "code",
   "execution_count": 27,
   "id": "6760d244",
   "metadata": {},
   "outputs": [
    {
     "data": {
      "text/plain": [
       "400.0     9626\n",
       "430.0     9375\n",
       "350.0     4814\n",
       "410.0     2468\n",
       "300.0     1196\n",
       "450.0     1191\n",
       "420.0     1176\n",
       "475.0     1002\n",
       "370.0      846\n",
       "470.0      697\n",
       "250.0      663\n",
       "480.0      636\n",
       "375.0      607\n",
       "500.0      555\n",
       "200.0      549\n",
       "485.0      428\n",
       "150.0      342\n",
       "380.0      333\n",
       "425.0      313\n",
       "270.0      245\n",
       "386.0      189\n",
       "100.0      186\n",
       "265.0      168\n",
       "220.0      150\n",
       "260.0      143\n",
       "390.0      129\n",
       "310.0       89\n",
       "275.0       81\n",
       "460.0       80\n",
       "225.0       65\n",
       "280.0       56\n",
       "320.0       53\n",
       "325.0       46\n",
       "235.0       21\n",
       "43.0        11\n",
       "465.0       11\n",
       "330.0        8\n",
       "435.0        7\n",
       "40.0         7\n",
       "230.0        6\n",
       "385.0        4\n",
       "20.0         4\n",
       "550.0        3\n",
       "30.0         3\n",
       "35.0         2\n",
       "600.0        2\n",
       "1200.0       2\n",
       "393.0        1\n",
       "456.0        1\n",
       "352.0        1\n",
       "417.0        1\n",
       "Name: Cement Content, dtype: int64"
      ]
     },
     "execution_count": 27,
     "metadata": {},
     "output_type": "execute_result"
    }
   ],
   "source": [
    "#check what is (Cement Content) column contain?\n",
    "df['Cement Content'].value_counts()"
   ]
  },
  {
   "cell_type": "code",
   "execution_count": 28,
   "id": "b1661204",
   "metadata": {},
   "outputs": [
    {
     "data": {
      "text/plain": [
       "count    38592.000000\n",
       "mean       393.505649\n",
       "std         64.218089\n",
       "min         20.000000\n",
       "25%        370.000000\n",
       "50%        400.000000\n",
       "75%        430.000000\n",
       "max       1200.000000\n",
       "Name: Cement Content, dtype: float64"
      ]
     },
     "execution_count": 28,
     "metadata": {},
     "output_type": "execute_result"
    }
   ],
   "source": [
    "#check what is (Cement Content) column contain?\n",
    "df['Cement Content'].describe()"
   ]
  },
  {
   "cell_type": "code",
   "execution_count": 29,
   "id": "02099380",
   "metadata": {},
   "outputs": [
    {
     "data": {
      "text/plain": [
       "0.0    38648\n",
       "Name: Temperature, dtype: int64"
      ]
     },
     "execution_count": 29,
     "metadata": {},
     "output_type": "execute_result"
    }
   ],
   "source": [
    "#ckeck Temperature column\n",
    "df.Temperature.value_counts()"
   ]
  },
  {
   "cell_type": "code",
   "execution_count": 30,
   "id": "96b0e433",
   "metadata": {},
   "outputs": [
    {
     "data": {
      "text/plain": [
       "T-32             9597\n",
       "T-22             1563\n",
       "MASS CONCRETE     773\n",
       "T-31               65\n",
       "T-33               32\n",
       "T-21                9\n",
       "T-25                8\n",
       "400                 8\n",
       "0                   2\n",
       "Name: Ice, dtype: int64"
      ]
     },
     "execution_count": 30,
     "metadata": {},
     "output_type": "execute_result"
    }
   ],
   "source": [
    "#ckeck Ice column\n",
    "df.Ice.value_counts()"
   ]
  },
  {
   "cell_type": "code",
   "execution_count": 31,
   "id": "69de7081",
   "metadata": {},
   "outputs": [
    {
     "data": {
      "text/plain": [
       "40Microsilica                2214\n",
       "30 kg Micro silica            784\n",
       "20 kg Micro silica            565\n",
       "Silica                        391\n",
       "Microsilica, FLOW             185\n",
       "screet                         57\n",
       "Microsilica                    53\n",
       "fiber customer                 29\n",
       "بلاطات ارض الشركة              25\n",
       "محاجر سن عتاقة                 17\n",
       "25K  SILKA FUME                15\n",
       "SCREED                         15\n",
       "35K SILKA FUME                 11\n",
       "Screed                          7\n",
       "20K SILKA FUME                  5\n",
       "Micro Silica                    4\n",
       "25K SILKA FUME                  4\n",
       "LIGHT WEIGHT  CONCRET           3\n",
       "لزوم قواعد ميزان المحطة         3\n",
       "early strength 3 days 80%       3\n",
       "سن عتاقه                        3\n",
       "ترايـــــــــــــل              2\n",
       "30K SILKA FUME                  2\n",
       "20kg micro silika               2\n",
       "محاجر سن عتاقة                  2\n",
       "FLOW                            2\n",
       "سن عتاقة                        2\n",
       "Micro Silica/40                 1\n",
       "Name: Cementitious Materials, dtype: int64"
      ]
     },
     "execution_count": 31,
     "metadata": {},
     "output_type": "execute_result"
    }
   ],
   "source": [
    "#check Cementitious Materials column and what is the outliers data to delete or replace it with correct data\n",
    "df['Cementitious Materials'].value_counts()"
   ]
  },
  {
   "cell_type": "code",
   "execution_count": 32,
   "id": "0662ebf7",
   "metadata": {},
   "outputs": [
    {
     "data": {
      "text/plain": [
       "SCRED                                1102\n",
       "محاجر سن عتاقة                        678\n",
       "mass  concerete                       572\n",
       "Fiber                                 483\n",
       "Mass Concrete                         293\n",
       "SCREED                                281\n",
       "screed                                180\n",
       "W.P                                   122\n",
       "sceret                                104\n",
       "SCREET                                 77\n",
       "FLOW                                   59\n",
       "water proof                            44\n",
       "ارض الشركة                             44\n",
       "3 Days Early Strength/%80              32\n",
       "فوم                                    32\n",
       "screet                                 22\n",
       "FOAM                                   20\n",
       "scered                                 19\n",
       "Water Proofing                         14\n",
       "سيارات عميل                            13\n",
       "Fiber, scered                          12\n",
       "STEEL FIBER                            10\n",
       "SPECIAL MORTAL                          7\n",
       "WATER PROF                              7\n",
       "SCREED, 3 Days Early Strength/%80       6\n",
       "Fiber, SCREED                           5\n",
       "Fiber, fiber customer                   4\n",
       "Screed                                  4\n",
       "لزوم قواعد ميزان المحطة                 3\n",
       "مانع الصدي <CL222>                      3\n",
       "ارض الشركه                              2\n",
       "scered, FLOW                            2\n",
       "تريل                                    2\n",
       "SCREED, محاجر سن عتاقة                  1\n",
       "تجهيزات ميزان المحطه                    1\n",
       "SCREED, FLOW                            1\n",
       "fiber customer                          1\n",
       "ترايــــــــل                           1\n",
       "Name: Special Admixtures, dtype: int64"
      ]
     },
     "execution_count": 32,
     "metadata": {},
     "output_type": "execute_result"
    }
   ],
   "source": [
    "#check Special Admixtures column and what is the outliers data to delete or replace it with correct data\n",
    "df['Special Admixtures'].value_counts()"
   ]
  },
  {
   "cell_type": "code",
   "execution_count": 33,
   "id": "e798918e",
   "metadata": {},
   "outputs": [
    {
     "data": {
      "text/plain": [
       "الورديه النهاريه    21174\n",
       "الورديه المسائيه    17475\n",
       "Name: الورديه, dtype: int64"
      ]
     },
     "execution_count": 33,
     "metadata": {},
     "output_type": "execute_result"
    }
   ],
   "source": [
    "#check الورديه column\n",
    "df.الورديه.value_counts()"
   ]
  },
  {
   "cell_type": "code",
   "execution_count": 34,
   "id": "f240eb43",
   "metadata": {},
   "outputs": [
    {
     "data": {
      "text/plain": [
       "<AxesSubplot:>"
      ]
     },
     "execution_count": 34,
     "metadata": {},
     "output_type": "execute_result"
    },
    {
     "data": {
      "image/png": "[encoded data removed]",
      "text/plain": [
       "<Figure size 432x288 with 1 Axes>"
      ]
     },
     "metadata": {
      "needs_background": "light"
     },
     "output_type": "display_data"
    }
   ],
   "source": [
    "df.الورديه.value_counts().plot(kind = 'bar')"
   ]
  },
  {
   "cell_type": "code",
   "execution_count": 35,
   "id": "6342cb41",
   "metadata": {},
   "outputs": [
    {
     "data": {
      "text/plain": [
       "مزراب          13824\n",
       "مضخه خارجيه     5353\n",
       "CP524-61 M      2090\n",
       "CP526-55M       1928\n",
       "CP522-55 M      1798\n",
       "CP518-42 M      1615\n",
       "CP523-47 M      1548\n",
       "CP517-47 M      1542\n",
       "CP525-55 M      1521\n",
       "CP514-36 M      1425\n",
       "CP515-42 M      1305\n",
       "CP516-43 M      1134\n",
       "CP513-43 M       805\n",
       "CP512-43 M       724\n",
       "CP519-43 M       710\n",
       "CP521-43 M       646\n",
       "CP507-42 M       438\n",
       "مضخه ثابته       243\n",
       "Name: Pump Name, dtype: int64"
      ]
     },
     "execution_count": 35,
     "metadata": {},
     "output_type": "execute_result"
    }
   ],
   "source": [
    "#check (Pump Name) column\n",
    "df['Pump Name'].value_counts()"
   ]
  },
  {
   "cell_type": "code",
   "execution_count": 36,
   "id": "ac7d174e",
   "metadata": {},
   "outputs": [
    {
     "data": {
      "text/plain": [
       "<AxesSubplot:>"
      ]
     },
     "execution_count": 36,
     "metadata": {},
     "output_type": "execute_result"
    },
    {
     "data": {
      "image/png": "[encoded data removed]",
      "text/plain": [
       "<Figure size 432x288 with 1 Axes>"
      ]
     },
     "metadata": {
      "needs_background": "light"
     },
     "output_type": "display_data"
    }
   ],
   "source": [
    "df['Pump Name'].value_counts().plot(kind = 'bar')"
   ]
  },
  {
   "cell_type": "code",
   "execution_count": 37,
   "id": "6f48623d",
   "metadata": {},
   "outputs": [
    {
     "data": {
      "text/plain": [
       "0.0     19147\n",
       "10.0    17250\n",
       "9.0       818\n",
       "8.0       254\n",
       "5.0       231\n",
       "7.0       156\n",
       "7.5       155\n",
       "6.0       141\n",
       "3.0       127\n",
       "4.0       121\n",
       "2.0       118\n",
       "1.0        29\n",
       "1.5        19\n",
       "2.5        17\n",
       "3.5        16\n",
       "6.5        14\n",
       "5.5        10\n",
       "4.5        10\n",
       "8.5         7\n",
       "9.5         4\n",
       "10.5        4\n",
       "6.8         1\n",
       "Name: Pumped Quantity, dtype: int64"
      ]
     },
     "execution_count": 37,
     "metadata": {},
     "output_type": "execute_result"
    }
   ],
   "source": [
    "#check (Pumped Quantity) column\n",
    "df['Pumped Quantity'].value_counts()"
   ]
  },
  {
   "cell_type": "code",
   "execution_count": 72,
   "id": "6180a52e",
   "metadata": {},
   "outputs": [
    {
     "data": {
      "text/plain": [
       "<AxesSubplot:ylabel='Frequency'>"
      ]
     },
     "execution_count": 72,
     "metadata": {},
     "output_type": "execute_result"
    },
    {
     "data": {
      "image/png": "[encoded data removed]",
      "text/plain": [
       "<Figure size 432x288 with 1 Axes>"
      ]
     },
     "metadata": {
      "needs_background": "light"
     },
     "output_type": "display_data"
    }
   ],
   "source": [
    "df['Pumped Quantity'].value_counts().plot(kind = 'hist')"
   ]
  },
  {
   "cell_type": "code",
   "execution_count": 39,
   "id": "49101816",
   "metadata": {},
   "outputs": [
    {
     "data": {
      "text/plain": [
       "array(['TM160', 'TM168', 'TM148', 'TM183', 'TM127', 'TM100', 'TM166',\n",
       "       'TM155', 'TM135', 'TM153', 'TM103', 'TM136', 'TM211', 'TM162',\n",
       "       'TM186', 'TM195', 'TM163', 'TM154', 'TM194', 'TM152', 'TM196',\n",
       "       'خلاطه خارجيه', 'TM164', 'TM187', 'TM172', 'TM198', 'TM188',\n",
       "       'TM208', 'TM212', 'TM199', 'TM189', 'TM108', 'TM104', 'TM159',\n",
       "       'TM179', 'TM174', 'TM205', 'TM158', 'TM110', 'TM203', 'TM207',\n",
       "       'TM151', 'TM190', 'TM202', 'TM181', 'TM182', 'TM180', 'TM178',\n",
       "       'TM184', 'TM176', 'TM185', 'TM197', 'TM204', 'TM192', 'TM209',\n",
       "       'TM150', 'TM191', 'TM210', 'TM200', 'TM156', 'TM193', 'TM171',\n",
       "       'TM206', 'TM177', 'TM175', 'TM170', 'TM114', 'TM165', 'TM169',\n",
       "       'TM201', 'TM116', 'TM157', 'TM173', 'TM167', 'TM161', 'TM145',\n",
       "       'TM107', 'tm194', 'tm195', 'tm182', 'TM126'], dtype=object)"
      ]
     },
     "execution_count": 39,
     "metadata": {},
     "output_type": "execute_result"
    }
   ],
   "source": [
    "#check Truck Name column\n",
    "df['Truck Name'].unique()"
   ]
  },
  {
   "cell_type": "code",
   "execution_count": 40,
   "id": "b5d52400",
   "metadata": {},
   "outputs": [
    {
     "data": {
      "text/plain": [
       "Mostafa Mahmoud                3180\n",
       "Ezaat                          2328\n",
       "محمد على الشربتلى              1946\n",
       "محمد مصطفي اسماعيل             1868\n",
       "مصطفى محمود مصطفى              1846\n",
       "fadi somauel                   1748\n",
       "اسلام رجب عنتر عايد            1666\n",
       "محمد طلب5166                   1428\n",
       "AHMED MOHAMMED ABDELRAHMAN     1420\n",
       "4907 إبراهيم محمد أحمد محمد    1341\n",
       "خالد الدسوقي                   1315\n",
       "Ahmed Zaghloul                 1244\n",
       "Mahmoud Ragab Mohamed          1244\n",
       "4999 محمد أحمد محمد محفوظ      1227\n",
       "محمد علي                       1134\n",
       "محمد شعبان لطفى                1125\n",
       "معتز خلف الله                   897\n",
       "هشام شاكر                       886\n",
       "محمودعبدالمنعم                  736\n",
       "4793 محمد علي                   726\n",
       "مروان خضر متولي مروان           688\n",
       "عبدالله مرهون                   678\n",
       "1829 معتز خلف الله فهمي         664\n",
       "ابراهيم كمال                    610\n",
       "اسلام عبد النبي صالح            560\n",
       "على ابراهيم احمد                544\n",
       "كريم احمد امين                  530\n",
       "اسلام عبدالنبي صالح             448\n",
       "يحيي جاوى                       445\n",
       "علي ماهر بدير مطر               438\n",
       "محمودعبدالمنعم احمد             414\n",
       "1879 محمد شعبان لطفى            395\n",
       "اسماعيل ناصر الجوهري            360\n",
       "علي احمد                        329\n",
       "Hassan                          316\n",
       "يحيى جاوى                       309\n",
       "3463 احمد جمال احمد زيد         216\n",
       "على عاطف على                    203\n",
       "1879 محد شعبان لطفى             160\n",
       "احمد السيد احمد                 159\n",
       "يحي جاوي                        154\n",
       "احمد جمال احمد زيد              141\n",
       "مروان خضر                        97\n",
       "اسلام عبد النبى                  96\n",
       "اسلام رجب عنتر عايد              87\n",
       "علي جمعه ابراهيم                 60\n",
       "محمد مصطفي اسماعيل               39\n",
       "مروان خضر                        38\n",
       "عبد الرحمن علاء                  37\n",
       "مصطفى حبش                        33\n",
       "احمد زغلول محمد                  28\n",
       "محمد علي 4793                    25\n",
       "عبدالرحمن علاء                   17\n",
       "معتز خلف الله فهمي               13\n",
       "صيانة النظام                      7\n",
       "محمد شعبان                        3\n",
       "محمد على                          2\n",
       "معتز خلف                          1\n",
       "Name: User Name, dtype: int64"
      ]
     },
     "execution_count": 40,
     "metadata": {},
     "output_type": "execute_result"
    }
   ],
   "source": [
    "#chek User Name column\n",
    "df['User Name'].value_counts()"
   ]
  },
  {
   "cell_type": "code",
   "execution_count": 41,
   "id": "ef7f5ae1",
   "metadata": {},
   "outputs": [
    {
     "data": {
      "text/plain": [
       "array(['TMTM160', 'TMTM168', 'TMTM148', 'TMTM183', 'TMTM127', 'TMTM100',\n",
       "       'TMTM166', 'TMTM155', 'TMTM135', 'TMTM153', 'TMTM103', 'TMTM136',\n",
       "       'TMTM211', 'TMTM162', 'TMTM186', 'TMTM195', 'TMTM163', 'TMTM154',\n",
       "       'TMTM194', 'TMTM152', 'TMTM196', 'TMخلاطه خارجيه', 'TMTM164',\n",
       "       'TMTM187', 'TMTM172', 'TMTM198', 'TMTM188', 'TMTM208', 'TMTM212',\n",
       "       'TMTM199', 'TMTM189', 'TMTM108', 'TMTM104', 'TMTM159', 'TMTM179',\n",
       "       'TMTM174', 'TMTM205', 'TMTM158', 'TMTM110', 'TMTM203', 'TMTM207',\n",
       "       'TMTM151', 'TMTM190', 'TMTM202', 'TMTM181', 'TMTM182', 'TMTM180',\n",
       "       'TMTM178', 'TMTM184', 'TMTM176', 'TMTM185', 'TMTM197', 'TMTM204',\n",
       "       'TMTM192', 'TMTM209', 'TMTM150', 'TMTM191', 'TMTM210', 'TMTM200',\n",
       "       'TMTM156', 'TMTM193', 'TMTM171', 'TMTM206', 'TMTM177', 'TMTM175',\n",
       "       'TMTM170', 'TMTM114', 'TMTM165', 'TMTM169', 'TMTM201', 'TMTM116',\n",
       "       'TMTM157', 'TMTM173', 'TMTM167', 'TMTM161', 'TMTM145', 'TMTM107',\n",
       "       'TMtm194', 'TMtm195', 'TMtm182', 'TMTM126'], dtype=object)"
      ]
     },
     "execution_count": 41,
     "metadata": {},
     "output_type": "execute_result"
    }
   ],
   "source": [
    "#check Mixer ahmed Ragab column\n",
    "df['Mixer ahmed Ragab'].unique()"
   ]
  },
  {
   "cell_type": "code",
   "execution_count": 87,
   "id": "aeba6bf0",
   "metadata": {},
   "outputs": [
    {
     "data": {
      "text/plain": [
       "Text(0, 0.5, 'Count')"
      ]
     },
     "execution_count": 87,
     "metadata": {},
     "output_type": "execute_result"
    },
    {
     "data": {
      "image/png": "[encoded data removed]",
      "text/plain": [
       "<Figure size 432x288 with 1 Axes>"
      ]
     },
     "metadata": {
      "needs_background": "light"
     },
     "output_type": "display_data"
    }
   ],
   "source": [
    "#check Week column\n",
    "df.Week.value_counts().sort_values(ascending=True).plot(kind = 'bar')\n",
    "plt.title('Most requested weeks')\n",
    "plt.xlabel('WEEKS')\n",
    "plt.ylabel(\"Count\")"
   ]
  },
  {
   "cell_type": "markdown",
   "id": "0bc48d3b",
   "metadata": {},
   "source": [
    "# Summary Exploration\n",
    "* Drop TM, User Name, Temperature, Pump Operator Name, Cementitious Materials\n",
    "* Drop Duplicates \n",
    "* Replace Values, Truck Name, Special Admixtures, Cement Type\n",
    "* Split Customer Name to Customer Name and Customer Code"
   ]
  },
  {
   "cell_type": "code",
   "execution_count": 43,
   "id": "ec7ae0b4",
   "metadata": {},
   "outputs": [
    {
     "data": {
      "text/plain": [
       "(38649, 31)"
      ]
     },
     "execution_count": 43,
     "metadata": {},
     "output_type": "execute_result"
    }
   ],
   "source": [
    "#check data shape\n",
    "df.shape"
   ]
  },
  {
   "cell_type": "code",
   "execution_count": 44,
   "id": "ce6511f7",
   "metadata": {},
   "outputs": [],
   "source": [
    "#drop non useful columns\n",
    "df.drop(['TM', 'User Name', 'Temperature', 'Pump Operator Name', 'Cementitious Materials'], axis=1, inplace=True)"
   ]
  },
  {
   "cell_type": "code",
   "execution_count": 45,
   "id": "c93e521a",
   "metadata": {},
   "outputs": [
    {
     "data": {
      "text/plain": [
       "(38649, 26)"
      ]
     },
     "execution_count": 45,
     "metadata": {},
     "output_type": "execute_result"
    }
   ],
   "source": [
    "#check shape again\n",
    "df.shape"
   ]
  },
  {
   "cell_type": "code",
   "execution_count": 46,
   "id": "3905c85c",
   "metadata": {},
   "outputs": [],
   "source": [
    "#drop duplicate from data \n",
    "df.drop_duplicates(inplace=True)"
   ]
  },
  {
   "cell_type": "code",
   "execution_count": 47,
   "id": "ba1a4d53",
   "metadata": {},
   "outputs": [
    {
     "data": {
      "text/plain": [
       "0"
      ]
     },
     "execution_count": 47,
     "metadata": {},
     "output_type": "execute_result"
    }
   ],
   "source": [
    "#check duplicated  values again\n",
    "df.duplicated().sum()"
   ]
  },
  {
   "cell_type": "code",
   "execution_count": 48,
   "id": "bf0b7378",
   "metadata": {},
   "outputs": [],
   "source": [
    "# Replace value of Truck Name column\n",
    "df['Truck Name'].replace('tm194', 'TM194', inplace=True)\n",
    "df['Truck Name'].replace('tm195', 'TM195', inplace=True)\n",
    "df['Truck Name'].replace('tm182', 'TM182', inplace=True)"
   ]
  },
  {
   "cell_type": "code",
   "execution_count": 49,
   "id": "dec24e21",
   "metadata": {},
   "outputs": [
    {
     "data": {
      "text/plain": [
       "array(['TM160', 'TM168', 'TM148', 'TM183', 'TM127', 'TM100', 'TM166',\n",
       "       'TM155', 'TM135', 'TM153', 'TM103', 'TM136', 'TM211', 'TM162',\n",
       "       'TM186', 'TM195', 'TM163', 'TM154', 'TM194', 'TM152', 'TM196',\n",
       "       'خلاطه خارجيه', 'TM164', 'TM187', 'TM172', 'TM198', 'TM188',\n",
       "       'TM208', 'TM212', 'TM199', 'TM189', 'TM108', 'TM104', 'TM159',\n",
       "       'TM179', 'TM174', 'TM205', 'TM158', 'TM110', 'TM203', 'TM207',\n",
       "       'TM151', 'TM190', 'TM202', 'TM181', 'TM182', 'TM180', 'TM178',\n",
       "       'TM184', 'TM176', 'TM185', 'TM197', 'TM204', 'TM192', 'TM209',\n",
       "       'TM150', 'TM191', 'TM210', 'TM200', 'TM156', 'TM193', 'TM171',\n",
       "       'TM206', 'TM177', 'TM175', 'TM170', 'TM114', 'TM165', 'TM169',\n",
       "       'TM201', 'TM116', 'TM157', 'TM173', 'TM167', 'TM161', 'TM145',\n",
       "       'TM107', 'TM126'], dtype=object)"
      ]
     },
     "execution_count": 49,
     "metadata": {},
     "output_type": "execute_result"
    }
   ],
   "source": [
    "#check Truck Name column again after replacing\n",
    "df['Truck Name'].unique()"
   ]
  },
  {
   "cell_type": "code",
   "execution_count": 50,
   "id": "e9f32f49",
   "metadata": {},
   "outputs": [
    {
     "data": {
      "text/plain": [
       "SCRED                                1102\n",
       "محاجر سن عتاقة                        678\n",
       "mass  concerete                       572\n",
       "Fiber                                 483\n",
       "Mass Concrete                         293\n",
       "SCREED                                281\n",
       "screed                                180\n",
       "W.P                                   122\n",
       "sceret                                104\n",
       "SCREET                                 77\n",
       "FLOW                                   59\n",
       "water proof                            44\n",
       "ارض الشركة                             44\n",
       "3 Days Early Strength/%80              32\n",
       "فوم                                    32\n",
       "screet                                 22\n",
       "FOAM                                   20\n",
       "scered                                 19\n",
       "Water Proofing                         14\n",
       "سيارات عميل                            13\n",
       "Fiber, scered                          12\n",
       "STEEL FIBER                            10\n",
       "SPECIAL MORTAL                          7\n",
       "WATER PROF                              7\n",
       "SCREED, 3 Days Early Strength/%80       6\n",
       "Fiber, SCREED                           5\n",
       "Fiber, fiber customer                   4\n",
       "Screed                                  4\n",
       "لزوم قواعد ميزان المحطة                 3\n",
       "مانع الصدي <CL222>                      3\n",
       "ارض الشركه                              2\n",
       "scered, FLOW                            2\n",
       "تريل                                    2\n",
       "SCREED, محاجر سن عتاقة                  1\n",
       "تجهيزات ميزان المحطه                    1\n",
       "SCREED, FLOW                            1\n",
       "fiber customer                          1\n",
       "ترايــــــــل                           1\n",
       "Name: Special Admixtures, dtype: int64"
      ]
     },
     "execution_count": 50,
     "metadata": {},
     "output_type": "execute_result"
    }
   ],
   "source": [
    "df['Special Admixtures'].value_counts()"
   ]
  },
  {
   "cell_type": "code",
   "execution_count": 90,
   "id": "1cafe5af",
   "metadata": {},
   "outputs": [],
   "source": [
    "# Replace value of Special Admixtures column\n",
    "#column_name.replce(old, new, change)\n",
    "\n",
    "df['Special Admixtures'].replace({'SCREED': 'SCRED', 'screed': 'SCRED', 'SCREET': 'SCRED', 'screet': 'SCRED', 'sceret': 'SCRED', 'scered': 'SCRED', 'Fiber, scered': 'SCRED', 'SCREED, 3 Days Early Strength/%80': 'SCRED', 'Fiber, SCREED': 'SCRED', 'Screed': 'SCRED', 'scered, FLOW': 'SCRED', 'SCREED, FLOW': 'SCRED', 'mass  concerete': 'Mass Concrete', 'STEEL FIBER': 'Fiber','Fiber, fiber customer': 'Fiber', 'fiber customer': 'Fiber','W.P': 'water proof','Water Proofing': 'water proof','WATER PROF': 'water proof', 'FOAM':'فوم'}, inplace=True)\n",
    "\n",
    "df['Special Admixtures'].replace('ارض الشركة', 'ارض الشركه', inplace=True)\n",
    "df['Special Admixtures'].replace('لزوم قواعد ميزان المحطة', 'تجهيزات ميزان المحطه', inplace=True)\n",
    "df['Special Admixtures'].replace('تريل', 'ترايــــــــل', inplace=True)\n"
   ]
  },
  {
   "cell_type": "code",
   "execution_count": 79,
   "id": "edd11119",
   "metadata": {},
   "outputs": [
    {
     "data": {
      "text/plain": [
       "SCRED                        1815\n",
       "Mass Concrete                 865\n",
       "محاجر سن عتاقة                678\n",
       "Fiber                         498\n",
       "water proof                   187\n",
       "FLOW                           59\n",
       "فوم                            52\n",
       "ارض الشركه                     46\n",
       "3 Days Early Strength/%80      32\n",
       "سيارات عميل                    13\n",
       "SPECIAL MORTAL                  7\n",
       "تجهيزات ميزان المحطه            4\n",
       "مانع الصدي <CL222>              3\n",
       "تريل                            2\n",
       "Trial                           1\n",
       "SCREED, محاجر سن عتاقة          1\n",
       "Name: Special Admixtures, dtype: int64"
      ]
     },
     "execution_count": 79,
     "metadata": {},
     "output_type": "execute_result"
    }
   ],
   "source": [
    "df['Special Admixtures'].value_counts()"
   ]
  },
  {
   "cell_type": "code",
   "execution_count": 81,
   "id": "078f5040",
   "metadata": {},
   "outputs": [
    {
     "data": {
      "text/plain": [
       "Text(0, 0.5, 'Count')"
      ]
     },
     "execution_count": 81,
     "metadata": {},
     "output_type": "execute_result"
    },
    {
     "data": {
      "image/png": "[encoded data removed]",
      "text/plain": [
       "<Figure size 432x288 with 1 Axes>"
      ]
     },
     "metadata": {
      "needs_background": "light"
     },
     "output_type": "display_data"
    }
   ],
   "source": [
    "df['Special Admixtures'].value_counts().plot(kind='bar')\n",
    "plt.title('Special Admixtures Orders')\n",
    "plt.xlabel('Special Admixtures')\n",
    "plt.ylabel('Count')"
   ]
  },
  {
   "cell_type": "code",
   "execution_count": 73,
   "id": "de818d64",
   "metadata": {},
   "outputs": [
    {
     "data": {
      "text/plain": [
       "SCRED                        1815\n",
       "Mass Concrete                 865\n",
       "محاجر سن عتاقة                678\n",
       "Fiber                         498\n",
       "water proof                   187\n",
       "FLOW                           59\n",
       "فوم                            52\n",
       "ارض الشركه                     46\n",
       "3 Days Early Strength/%80      32\n",
       "سيارات عميل                    13\n",
       "SPECIAL MORTAL                  7\n",
       "تجهيزات ميزان المحطه            4\n",
       "مانع الصدي <CL222>              3\n",
       "تريل                            2\n",
       "SCREED, محاجر سن عتاقة          1\n",
       "ترايــــــــل                   1\n",
       "Name: Special Admixtures, dtype: int64"
      ]
     },
     "execution_count": 73,
     "metadata": {},
     "output_type": "execute_result"
    }
   ],
   "source": [
    "df['Special Admixtures'].value_counts()"
   ]
  },
  {
   "cell_type": "code",
   "execution_count": 54,
   "id": "8f21ca5b",
   "metadata": {},
   "outputs": [
    {
     "data": {
      "text/plain": [
       "C300/350/OPC                                     3799\n",
       "C400/400/OPC                                     2312\n",
       "450/410/C3/MS                                    2260\n",
       "C450/430/SR3/TC32                                2042\n",
       "C450/430/SR3/TC32                                1686\n",
       "C300/400/OPC/3                                   1604\n",
       "C300/400/OPC                                     1255\n",
       "C450/430/CEM3                                    1204\n",
       "C350/400/OPC                                     1155\n",
       "C400/420/C3                                       901\n",
       "C350/400/SRC                                      894\n",
       "C300/370/OPC                                      830\n",
       "C450/475/OPC                                      665\n",
       "C400/470/OPC                                      662\n",
       "C450/430/CEM3/TC32                                492\n",
       "C150/250/OPC                                      489\n",
       "C450/430/SR3                                      489\n",
       "C350/400/OPC/P                                    448\n",
       "C300/350/OPC/5                                    427\n",
       "C300/375/OPC                                      427\n",
       "C350/400/SRC/PILE/El-Teeby                        351\n",
       "C 450/430/CEM3                                    340\n",
       "CMOR/200/OPC                                      332\n",
       "C350/380/OPC                                      308\n",
       "C450/430/CEM3/TC32                                301\n",
       "C500/480/OPC/C                                    299\n",
       "C400/430/OPC                                      294\n",
       "C450/430/SR3/MONRAIL/TC32                         287\n",
       "C300/400/SRC                                      273\n",
       "C250/350/OPC                                      272\n",
       "C400/450/OPC                                      270\n",
       "C500/500/OPC/C                                    258\n",
       "C400/450/OPC/C                                    249\n",
       "C200/270/OPC                                      226\n",
       "C450/430/CEM3/MASS CONCRETE                       223\n",
       "C400/410/OPC                                      217\n",
       "C500/485/OPC/C                                    195\n",
       "C450/430/SRC                                      187\n",
       "C-450/425/SILEKA 20/OPC                           183\n",
       "C350/375/OPC                                      182\n",
       "C400/420/OPC                                      176\n",
       "C450/475/OPC/C                                    175\n",
       "C200/265/OPC                                      167\n",
       "C450/430/C3/MONRAIL/TC32                          165\n",
       "C500/480/OPC                                      165\n",
       "C200/300/SRC                                      150\n",
       "C450/450/C3                                       146\n",
       "C450/430/SR3/TC32                                 145\n",
       "C200/300/OPC/Screed                               144\n",
       "CMOR/300/life mor plaster/12Hr/fiper              139\n",
       "CMOR/100/OPC/C                                    139\n",
       "C180/300/OPC                                      137\n",
       "C120/220/OPC                                      135\n",
       "C350/400/SR3                                      134\n",
       "C500/485/OPC                                      133\n",
       "CMOR/200/OPC                                      128\n",
       "C5N/390/OPC/BONDING MOR/12HR/H9-H3                128\n",
       "C350/410/OPC/ALGALAACOMPLEX                       128\n",
       "C200/300/OPC                                      124\n",
       "C400/450/SRC                                      123\n",
       "C450/430/SR3/TC32                                 122\n",
       "C400/430/C3/mass concrete/MAS TOW/TC 22o          120\n",
       "C450/430/CEM3/MASSCONCRETE                        109\n",
       "C300/400/OPC/ES/WP/GREATER CAIRO METRO            108\n",
       "C500/485/OPC/SCREED                               105\n",
       "CMOR/150/OPC/C                                    103\n",
       "C450/450/OPC                                      103\n",
       "C200/250/OPC                                      103\n",
       "C400/430/OPC/C                                    103\n",
       "C300/400/OPC/W.P                                  100\n",
       "PCCP.W/C/0.36                                      99\n",
       "C/225/300/OPC/TC32                                 99\n",
       "C225/300/OPC                                       92\n",
       "C450/430/CEM3/TC32                                 92\n",
       "C350/400/OPC/DAR ALAAFTAA                          92\n",
       "C350/400/C3/SCREED/PILE/OHJV                       91\n",
       "C5MPA/386/OPC/BASALT/PAVING/WC0.36                 90\n",
       "C250/310/OPC                                       89\n",
       "C450/430/C3                                        84\n",
       "500\\500 OPC\\C                                      84\n",
       "C400/400/SRC                                       84\n",
       "C300/400/SRC/Screed                                82\n",
       "C240/350/OPC                                       81\n",
       "C350/400/OPC/C                                     77\n",
       "C450/430/SR3/T32                                   77\n",
       "C500/475/OPC                                       75\n",
       "C400/425/OPC                                       74\n",
       "C300/400/OPC/C                                     73\n",
       "C500/500/OPC                                       73\n",
       "C500/480/OPC/SCREED                                73\n",
       "C225/300/OPC/TC32                                  72\n",
       "C200/260/OPC                                       72\n",
       "C400/430/C3/Mass concrete/T-22                     69\n",
       "C200/275/OPC                                       68\n",
       "C210/350/OPC                                       66\n",
       "C-200-260 OPC                                      66\n",
       "C450/430/OPC                                       65\n",
       "C250/320/OPC                                       60\n",
       "C350/400/SR3/TC32                                  59\n",
       "C350/400/C3/7DAYS/BAHRE POWER PLANT                57\n",
       "400\\450 OPC\\C                                      57\n",
       "C450/430/SR3/TC32                                  57\n",
       "C370/400/OPC                                       57\n",
       "C120/225/OPC                                       55\n",
       "c225/300/OPC                                       55\n",
       "C400/430/OPC/5                                     53\n",
       "C400/430/C3/MASSConcrete/T22                       52\n",
       "CMOR/200/OPC                                       52\n",
       "C180/300/SRC                                       51\n",
       "C450/425/SILEKA 20/ OPC                            49\n",
       "C0/150/OPC/Screed                                  49\n",
       "CMOR/150/OPC                                       47\n",
       "C250/325/OPC/Pillars                               46\n",
       "C450/430/CEMIII/T22                                45\n",
       "C500/500/OPC/SCREED                                45\n",
       "C350/400/OPC/Screed                                44\n",
       "C0/150/OPC                                         40\n",
       "C200/280/OPC                                       39\n",
       "C450/460/CEM3                                      39\n",
       "C450/430/CEM3/TC20                                 38\n",
       "C450/430/CEMIII/T32                                37\n",
       "C200/300/OPC/FUSTAT GARDEN                         36\n",
       "C450/430/CEM3/MASSC/T22                            35\n",
       "C300/350/OPC/FUSTAT GARDEN                         35\n",
       "C150/OPC/C                                         35\n",
       "C450/430/C3/Monorail/Mass Concrete                 33\n",
       "C450/430/CEM3/TC32                                 32\n",
       "CMOR/100/OPC                                       32\n",
       "C400/430/C3/Mass Concrete/                         31\n",
       "C400/430/C3/Mass Concrete/T22                      31\n",
       "C400/430/OPC/SCREED/Al Demerdas HospitaL           31\n",
       "C150/300/OPC                                       31\n",
       "C400/420/OPC/Screed                                30\n",
       "C300/350/OPC/C                                     27\n",
       "C300/400/OPC/WP                                    27\n",
       "C400/430/OPC/ES5DAY/ALD.HOSPITAL                   26\n",
       "C400/420/CEM3                                      25\n",
       "C400/430/OPC/Al Demerdas HospitaL                  25\n",
       "CMOR/200/OPC                                       24\n",
       "C400/400/OPC/W.P                                   24\n",
       "C450/430/CEM3/TC32                                 24\n",
       "C400/450/OPC\\c                                     23\n",
       "OPC \\150 OPC\\C                                     23\n",
       "C400/430/SRC/5                                     23\n",
       "C450/460/OPC/MONRAIL/TC32                          23\n",
       "c0/150/opc/screet                                  22\n",
       "C300/400/OPC/FIBER                                 22\n",
       "C450/430/CEMIII/Monorail/Mass Concrete             22\n",
       "C350/410/OPC                                       22\n",
       "C450/475/OPC/c                                     21\n",
       "C450/430/CEM3/T32                                  21\n",
       "350/380 opc                                        21\n",
       "C450/430/C3/Pile/Monorail/Mass Concrete            21\n",
       "C250/350/OPC/STEEL FIBER                           20\n",
       "C 280/350/SRC                                      19\n",
       "C500/485/OPC/c                                     19\n",
       "C350/400/SR3/TC32                                  19\n",
       "C/150/OPC/C                                        19\n",
       "C300/400/OPC/P                                     19\n",
       "C300/370/SRC                                       19\n",
       "C150/235 SRC                                       18\n",
       "C300/400/SRC/ALGALAACOMPLEX                        18\n",
       "C450/430/C3/Monorail/T22                           18\n",
       "C350/400/SRC/W.P                                   18\n",
       "C0/500/OPC                                         17\n",
       "c450/475 opc                                       17\n",
       "C400/430/OPC/Screed                                17\n",
       "C500/480/OPC/C/SCREED                              16\n",
       "C200/270/OPC/Screed                                15\n",
       "C0/250/OPC/LW1200                                  15\n",
       "C500/OPC                                           15\n",
       "C280/350/SRC                                       15\n",
       "C450/430/C3//Monorail/Mass Concrete                15\n",
       "C120/220/OPC/Screed                                15\n",
       "C200/250/OPC/El-Teeby                              14\n",
       "C350/400/OPC/5                                     14\n",
       "C300/400/OPC/wp                                    14\n",
       "C225/300/OPC/TC32                                  13\n",
       "C350/400/SRC/WP                                    13\n",
       "C200/300/OPC/Fustat Gardens                        13\n",
       "CMOR/100/OPC/c                                     13\n",
       "C400/430/C3//Mass concrete/T22                     12\n",
       "C100/250/OPC/Screed                                12\n",
       "450\\475 opc                                        12\n",
       "C350/400/SR3/TC32                                  12\n",
       "c200/280 opc                                       12\n",
       "400\\430opc                                         12\n",
       "C200/320 OPC                                       12\n",
       "C250/350/SRC                                       11\n",
       "c400/420/cm3                                       11\n",
       "C600/465/OPC/35MS                                  11\n",
       "C500/500/OPC/C/SCREED                              11\n",
       "C500/480/OPC/Screed/DAR ALAAFTAA                   11\n",
       "C180/250/OPC                                       10\n",
       "C300/400/OPC/4                                     10\n",
       "C250/400/SRC/Screed                                10\n",
       "C450/430/C3//Monorail/Mass concrete                10\n",
       "C150/250/OPC/C                                     10\n",
       "C450/500/OPC/C                                      9\n",
       "C500/475/OPC/25MS                                   9\n",
       "C500/500/OPC/SCREED/C                               9\n",
       "C400/450/OPC\\C                                      9\n",
       "C150/225/OPC                                        8\n",
       "C350/410/SRC/ALGALAACOMPLEX                         8\n",
       "C300/400/SRC/W.P/ALGALAACOMPLEX                     8\n",
       "C500/470/C3                                         8\n",
       "C200/330/OPC                                        8\n",
       "C200/275/OPC/c                                      8\n",
       "CMOR/250/OPC                                        7\n",
       "CMOR/200/OPC                                        7\n",
       "C450/475/OPC                                        7\n",
       "400/470/SRC                                         7\n",
       "C350/425/SRC                                        7\n",
       "C450/430/CEM3/MASS CONCRET                          7\n",
       "C300/400/OPC/p                                      6\n",
       "C400/420/CM3                                        6\n",
       "C450/430/SR3/ST32                                   6\n",
       "C500/480/OPC/c                                      6\n",
       "l.w 1000-1200                                       6\n",
       "C400/435/OPC                                        6\n",
       "C450/430/sr3/TC32                                   6\n",
       "C500/480/OPC/                                       6\n",
       "450/475/OPC                                         5\n",
       "C450/470/OPC                                        5\n",
       "C300/400/OPC/ES4/FUSTAT GARDEN                      5\n",
       "C400/420/cm3                                        5\n",
       "C0/400/OPC/L10                                      5\n",
       "C450/430/CEMIII//T32                                5\n",
       "C400/430/CEM3/MASSCONCRETE                          5\n",
       "l w 1000-1200                                       5\n",
       "500\\500 opc \\c                                      5\n",
       "C300/400/OPC/ES4DAY                                 5\n",
       "C200/300/OPC/ALGALAACOMPLEX                         4\n",
       "450\\500 OPC\\C                                       4\n",
       "C500/500/OPC/C/SCREED                               4\n",
       "C400/450 OPC/C                                      4\n",
       "C300/350/OPC/WP/Fustat Gardens                      4\n",
       "C500/475/ OPC/25MS                                  4\n",
       "C210/350/OPC                                        4\n",
       "c120/225/ opc                                       4\n",
       "C600/485/OPC/SF                                     4\n",
       "C400/500/OPC                                        4\n",
       "PCCP.W/C/0.34                                       4\n",
       "400/420/CEM3                                        4\n",
       "C450/450/OPC/PAVING/FIBER                           4\n",
       "C300/350/OPC/WP                                     4\n",
       "C600/450/CME3/silica                                4\n",
       "C400/430/C3                                         4\n",
       "CMOR/300/OPC                                        4\n",
       "C450/460/OPC                                        4\n",
       "C200/275/SRC                                        4\n",
       "C24/350/OPC                                         4\n",
       "c450/460 opc                                        4\n",
       "C300/470/OPC                                        4\n",
       "C400/430/SRC                                        3\n",
       "C500/470/OPC                                        3\n",
       "C450/385/C3/25MS                                    3\n",
       "C300/350/OPC/W.P                                    3\n",
       "C450/460/OPC/Monorails/TC32o                        3\n",
       "C 450/470 SR3                                       3\n",
       "350\\400 OPC\\C                                       3\n",
       "C600/480/OPC/MS/Maspero Towers                      3\n",
       "C180/280/OPC                                        3\n",
       "C600/460/OPC/SCREED/MS/MASPEROTOWER                 3\n",
       "C225/300/OPC/TC32                                   3\n",
       "C300/400/OPC/3/W.P                                  3\n",
       "C0/150/OPC/SCREED                                   3\n",
       "C100/200/OPC                                        3\n",
       "C200/270/OPC/Screed/FUSTAT GARDEN                   3\n",
       "C400/420/Cm3                                        3\n",
       "C300/450/OPC                                        3\n",
       "C500/500/OPC/c                                      3\n",
       "C400/450/OP\\c                                       3\n",
       "500/480/OPC/C                                       3\n",
       "C225/300/OPC/TC32                                   3\n",
       "C600/475/OPC/25MS                                   3\n",
       "C400/420/cm111                                      3\n",
       "C 500\\500 OPC \\C                                    3\n",
       "C50-100/500/OPC                                     3\n",
       "C/200/320/OPC                                       3\n",
       "600/550                                             3\n",
       "C300/400/SRC/W.P                                    3\n",
       "C600/475/OPC                                        3\n",
       "C400/430/SRC/FLOW                                   3\n",
       "250/350/OPC/STEEL FIBER                             3\n",
       "C200/260/OPC/DAR ALAAFTAA                           3\n",
       "400/420 CM3                                         2\n",
       "C600/470/OPC/SC/40M.S                               2\n",
       "C100/OPC/C                                          2\n",
       "C600/460/OPC/Screed/M.S                             2\n",
       "400/420/CM3                                         2\n",
       "C150/235/SRC                                        2\n",
       "400/420.CM3                                         2\n",
       "C500/485/OPC/C/SCREED                               2\n",
       "C200/300SRC                                         2\n",
       "c400/420cm3                                         2\n",
       "C0/350/OPC                                          2\n",
       "C200/OPC                                            2\n",
       "C350/400/SRC/P                                      2\n",
       "C400/400/Screed                                     2\n",
       "C500/500/OPC/C/ SCREED                              2\n",
       "C600/500/opc                                        2\n",
       "c400/420CM3                                         2\n",
       "C 0/150/OPC/Screed                                  2\n",
       "C350/400/SRC/Screed/W.P                             2\n",
       "C250/350/OPC/SCREED                                 2\n",
       "C500/480/OPC/DAR ALAAFTAA                           2\n",
       "C400/400/OPC/SCREED                                 2\n",
       "c200/260/OPC                                        2\n",
       "C500\\500 OPC\\C                                      2\n",
       "C400/400/OPC/SF NUCA                                2\n",
       "C450/460/OPC                                        2\n",
       "C300/350/SRC                                        2\n",
       "C450/500/OPC                                        2\n",
       "C400/400/OPC/SF                                     2\n",
       "C600/475/OPC/silica                                 2\n",
       "C500/470/cm3                                        2\n",
       "C200/300/Screed                                     1\n",
       "CMOR/456/OPC                                        1\n",
       "CMOR/390/OPC                                        1\n",
       "C50/400 OPC/SELEKA 30                               1\n",
       "C500/450/OPC/25 SILCA                               1\n",
       "C240/400/OPC/Fiber                                  1\n",
       "500/485 opc                                         1\n",
       "C300/400/SRC/WP                                     1\n",
       "C80/200/opc/warrak island                           1\n",
       "C500/430/OPC/Screed/M.S                             1\n",
       "C450\\475 OPC                                        1\n",
       "C250/350/OPC Fiber                                  1\n",
       "C/225/300/OPC                                       1\n",
       "C300/400/OPC/3/WP                                   1\n",
       "C350/380/SRC                                        1\n",
       "C180/280SRC                                         1\n",
       "C100/250/OPC                                        1\n",
       "350\\380 OPC                                         1\n",
       "C600/480/OPC                                        1\n",
       "c200/opc                                            1\n",
       "C450/385/C3/30MS/SCC                                1\n",
       "c500/485 opc                                        1\n",
       "C350/370/SRC                                        1\n",
       "C500/485/OPC/SCREED/C                               1\n",
       "C400/400/OPC/25/SILCA                               1\n",
       "C600/470/OPC/SCREED/MS/MASPEROTOWER                 1\n",
       "C450/430/C3/Monorail                                1\n",
       "C240/400/OPC                                        1\n",
       "C350/400 SRC                                        1\n",
       "C250/400/SRC/SCREED                                 1\n",
       "C180/280 OPC                                        1\n",
       "C400/430/OPC//Al Demerdas HospitaL                  1\n",
       "C350/400/SRC/                                       1\n",
       "C400/4300/OPC                                       1\n",
       "200\\275 opc                                         1\n",
       "C350/400/SRC/Screed/WP                              1\n",
       "C120/225/OPC/SCREED                                 1\n",
       "C120/220/Screed                                     1\n",
       "c200/300/opc                                        1\n",
       "450\\475opc                                          1\n",
       "CMOR/393/OP                                         1\n",
       "C350/400/OPC/c                                      1\n",
       "C5N/417/OP                                          1\n",
       "C350/400/SRC/wp                                     1\n",
       "C400\\430 OPC                                        1\n",
       "C450/435/C3                                         1\n",
       "400\\430 OPC\\C                                       1\n",
       "CMOR/352/OPC                                        1\n",
       "c400/430/opc                                        1\n",
       "c400/420/CM3                                        1\n",
       "400/420.CEM3                                        1\n",
       "C200/N/OPC                                          1\n",
       "C200/270/OPC/SCREED/FUSTAT GARDEN                   1\n",
       "C400/430/OPC/SCREED/Al Demerdas                     1\n",
       "C450/380/C3/30MS/SCC                                1\n",
       "C350/400/SR3/TC32                                   1\n",
       "C450/430/C3/OPC                                     1\n",
       "C450/430/CFM3/TS32                                  1\n",
       "C 150/235/SRC                                       1\n",
       "350\\380\\OPC                                         1\n",
       "C350/400/SRC.W.P                                    1\n",
       "C280/350/OPC                                        1\n",
       "500\\480 OPC\\C                                       1\n",
       "C100/250/OPC/SCREED                                 1\n",
       "C225/300/OPC/TC32                                   1\n",
       "C350/400/SRC/W.P/Screed                             1\n",
       "C400/400/SRC                                        1\n",
       "C450/430/SR3/TS32                                   1\n",
       "C200/275/OPC/C                                      1\n",
       "C350/400/OPC/p                                      1\n",
       "C600/475/OPC/SF100                                  1\n",
       "Name: Cement Type, dtype: int64"
      ]
     },
     "execution_count": 54,
     "metadata": {},
     "output_type": "execute_result"
    }
   ],
   "source": [
    "df['Cement Type'].value_counts()"
   ]
  },
  {
   "cell_type": "code",
   "execution_count": 55,
   "id": "f8ca2165",
   "metadata": {},
   "outputs": [
    {
     "data": {
      "text/html": [
       "<div>\n",
       "<style scoped>\n",
       "    .dataframe tbody tr th:only-of-type {\n",
       "        vertical-align: middle;\n",
       "    }\n",
       "\n",
       "    .dataframe tbody tr th {\n",
       "        vertical-align: top;\n",
       "    }\n",
       "\n",
       "    .dataframe thead th {\n",
       "        text-align: right;\n",
       "    }\n",
       "</style>\n",
       "<table border=\"1\" class=\"dataframe\">\n",
       "  <thead>\n",
       "    <tr style=\"text-align: right;\">\n",
       "      <th>الشهر</th>\n",
       "      <th>إبريل</th>\n",
       "      <th>فبراير</th>\n",
       "      <th>مارس</th>\n",
       "      <th>يناير</th>\n",
       "      <th>Total</th>\n",
       "    </tr>\n",
       "    <tr>\n",
       "      <th>Customer Name</th>\n",
       "      <th></th>\n",
       "      <th></th>\n",
       "      <th></th>\n",
       "      <th></th>\n",
       "      <th></th>\n",
       "    </tr>\n",
       "  </thead>\n",
       "  <tbody>\n",
       "    <tr>\n",
       "      <th>A.S.G.C. LLENSHAT</th>\n",
       "      <td>76%</td>\n",
       "      <td>4%</td>\n",
       "      <td>20%</td>\n",
       "      <td>0%</td>\n",
       "      <td>100%</td>\n",
       "    </tr>\n",
       "    <tr>\n",
       "      <th>CAIRO METRO LINE3</th>\n",
       "      <td>39%</td>\n",
       "      <td>14%</td>\n",
       "      <td>31%</td>\n",
       "      <td>16%</td>\n",
       "      <td>100%</td>\n",
       "    </tr>\n",
       "    <tr>\n",
       "      <th>DETAC</th>\n",
       "      <td>42%</td>\n",
       "      <td>10%</td>\n",
       "      <td>32%</td>\n",
       "      <td>16%</td>\n",
       "      <td>100%</td>\n",
       "    </tr>\n",
       "    <tr>\n",
       "      <th>Greater Cairo Metro</th>\n",
       "      <td>25%</td>\n",
       "      <td>19%</td>\n",
       "      <td>33%</td>\n",
       "      <td>23%</td>\n",
       "      <td>100%</td>\n",
       "    </tr>\n",
       "    <tr>\n",
       "      <th>UNI BUILDشركة يوني بيلد للصناعة</th>\n",
       "      <td>0%</td>\n",
       "      <td>0%</td>\n",
       "      <td>0%</td>\n",
       "      <td>100%</td>\n",
       "      <td>100%</td>\n",
       "    </tr>\n",
       "    <tr>\n",
       "      <th>UNIMIX</th>\n",
       "      <td>18%</td>\n",
       "      <td>82%</td>\n",
       "      <td>0%</td>\n",
       "      <td>0%</td>\n",
       "      <td>100%</td>\n",
       "    </tr>\n",
       "    <tr>\n",
       "      <th>أحمد فؤاد محمد محمد</th>\n",
       "      <td>0%</td>\n",
       "      <td>0%</td>\n",
       "      <td>0%</td>\n",
       "      <td>100%</td>\n",
       "      <td>100%</td>\n",
       "    </tr>\n",
       "    <tr>\n",
       "      <th>أوراسكوم ماتيتو</th>\n",
       "      <td>0%</td>\n",
       "      <td>0%</td>\n",
       "      <td>84%</td>\n",
       "      <td>16%</td>\n",
       "      <td>100%</td>\n",
       "    </tr>\n",
       "    <tr>\n",
       "      <th>ابناء حسن علام</th>\n",
       "      <td>49%</td>\n",
       "      <td>18%</td>\n",
       "      <td>32%</td>\n",
       "      <td>2%</td>\n",
       "      <td>100%</td>\n",
       "    </tr>\n",
       "    <tr>\n",
       "      <th>اتحاد روادالهندسه الحديثه</th>\n",
       "      <td>23%</td>\n",
       "      <td>23%</td>\n",
       "      <td>28%</td>\n",
       "      <td>26%</td>\n",
       "      <td>100%</td>\n",
       "    </tr>\n",
       "  </tbody>\n",
       "</table>\n",
       "</div>"
      ],
      "text/plain": [
       "الشهر                           إبريل فبراير مارس يناير Total\n",
       "Customer Name                                                \n",
       "A.S.G.C. LLENSHAT                 76%     4%  20%    0%  100%\n",
       "CAIRO METRO LINE3                 39%    14%  31%   16%  100%\n",
       "DETAC                             42%    10%  32%   16%  100%\n",
       "Greater Cairo Metro               25%    19%  33%   23%  100%\n",
       "UNI BUILDشركة يوني بيلد للصناعة    0%     0%   0%  100%  100%\n",
       "UNIMIX                            18%    82%   0%    0%  100%\n",
       "أحمد فؤاد محمد محمد                0%     0%   0%  100%  100%\n",
       "أوراسكوم ماتيتو                    0%     0%  84%   16%  100%\n",
       "ابناء حسن علام                    49%    18%  32%    2%  100%\n",
       "اتحاد روادالهندسه الحديثه         23%    23%  28%   26%  100%"
      ]
     },
     "execution_count": 55,
     "metadata": {},
     "output_type": "execute_result"
    }
   ],
   "source": [
    "#make pivot table to know the sequances of orders during the four months\n",
    "table = pd.pivot_table(df, values='Order Quantity', index='Customer Name', columns='الشهر', aggfunc=np.sum, margins=True, margins_name='Total').fillna(0)\n",
    "out = (\n",
    "    table.pipe(lambda d: d.div(d['Total'], axis='index'))\n",
    "    .applymap('{:.0%}'.format)\n",
    "       )\n",
    "out.head(10)\n"
   ]
  },
  {
   "cell_type": "code",
   "execution_count": 56,
   "id": "91dd6da6",
   "metadata": {},
   "outputs": [
    {
     "data": {
      "text/html": [
       "<div>\n",
       "<style scoped>\n",
       "    .dataframe tbody tr th:only-of-type {\n",
       "        vertical-align: middle;\n",
       "    }\n",
       "\n",
       "    .dataframe tbody tr th {\n",
       "        vertical-align: top;\n",
       "    }\n",
       "\n",
       "    .dataframe thead th {\n",
       "        text-align: right;\n",
       "    }\n",
       "</style>\n",
       "<table border=\"1\" class=\"dataframe\">\n",
       "  <thead>\n",
       "    <tr style=\"text-align: right;\">\n",
       "      <th>الشهر</th>\n",
       "      <th>إبريل</th>\n",
       "      <th>فبراير</th>\n",
       "      <th>مارس</th>\n",
       "      <th>يناير</th>\n",
       "      <th>Total</th>\n",
       "    </tr>\n",
       "    <tr>\n",
       "      <th>Customer Name</th>\n",
       "      <th></th>\n",
       "      <th></th>\n",
       "      <th></th>\n",
       "      <th></th>\n",
       "      <th></th>\n",
       "    </tr>\n",
       "  </thead>\n",
       "  <tbody>\n",
       "    <tr>\n",
       "      <th>كونكريت للهندسه والمقاولات</th>\n",
       "      <td>0%</td>\n",
       "      <td>0%</td>\n",
       "      <td>0%</td>\n",
       "      <td>100%</td>\n",
       "      <td>100%</td>\n",
       "    </tr>\n",
       "    <tr>\n",
       "      <th>لاند لورد للمقاولات العامه</th>\n",
       "      <td>0%</td>\n",
       "      <td>0%</td>\n",
       "      <td>0%</td>\n",
       "      <td>100%</td>\n",
       "      <td>100%</td>\n",
       "    </tr>\n",
       "    <tr>\n",
       "      <th>محمود صلاح محمد احمد علام</th>\n",
       "      <td>0%</td>\n",
       "      <td>0%</td>\n",
       "      <td>0%</td>\n",
       "      <td>100%</td>\n",
       "      <td>100%</td>\n",
       "    </tr>\n",
       "    <tr>\n",
       "      <th>مدرسة صحارا الدوليه بالعاصمه الاداريه</th>\n",
       "      <td>0%</td>\n",
       "      <td>35%</td>\n",
       "      <td>58%</td>\n",
       "      <td>6%</td>\n",
       "      <td>100%</td>\n",
       "    </tr>\n",
       "    <tr>\n",
       "      <th>مدينه نصر للاسكان والتعمير</th>\n",
       "      <td>20%</td>\n",
       "      <td>18%</td>\n",
       "      <td>9%</td>\n",
       "      <td>53%</td>\n",
       "      <td>100%</td>\n",
       "    </tr>\n",
       "    <tr>\n",
       "      <th>مشروع البنية التحتية تحالف حسن علام واوراسكوم</th>\n",
       "      <td>0%</td>\n",
       "      <td>26%</td>\n",
       "      <td>0%</td>\n",
       "      <td>74%</td>\n",
       "      <td>100%</td>\n",
       "    </tr>\n",
       "    <tr>\n",
       "      <th>مصرلاعمال الاسمنت المسلح</th>\n",
       "      <td>5%</td>\n",
       "      <td>35%</td>\n",
       "      <td>34%</td>\n",
       "      <td>26%</td>\n",
       "      <td>100%</td>\n",
       "    </tr>\n",
       "    <tr>\n",
       "      <th>مينا جورج عوض</th>\n",
       "      <td>0%</td>\n",
       "      <td>71%</td>\n",
       "      <td>0%</td>\n",
       "      <td>29%</td>\n",
       "      <td>100%</td>\n",
       "    </tr>\n",
       "    <tr>\n",
       "      <th>يونى ميكس - قطاع الخرسانة</th>\n",
       "      <td>12%</td>\n",
       "      <td>16%</td>\n",
       "      <td>25%</td>\n",
       "      <td>47%</td>\n",
       "      <td>100%</td>\n",
       "    </tr>\n",
       "    <tr>\n",
       "      <th>Total</th>\n",
       "      <td>27%</td>\n",
       "      <td>20%</td>\n",
       "      <td>30%</td>\n",
       "      <td>23%</td>\n",
       "      <td>100%</td>\n",
       "    </tr>\n",
       "  </tbody>\n",
       "</table>\n",
       "</div>"
      ],
      "text/plain": [
       "الشهر                                         إبريل فبراير مارس يناير Total\n",
       "Customer Name                                                              \n",
       "كونكريت للهندسه والمقاولات                       0%     0%   0%  100%  100%\n",
       "لاند لورد للمقاولات العامه                       0%     0%   0%  100%  100%\n",
       "محمود صلاح محمد احمد علام                        0%     0%   0%  100%  100%\n",
       "مدرسة صحارا الدوليه بالعاصمه الاداريه            0%    35%  58%    6%  100%\n",
       "مدينه نصر للاسكان والتعمير                      20%    18%   9%   53%  100%\n",
       "مشروع البنية التحتية تحالف حسن علام واوراسكوم    0%    26%   0%   74%  100%\n",
       "مصرلاعمال الاسمنت المسلح                         5%    35%  34%   26%  100%\n",
       "مينا جورج عوض                                    0%    71%   0%   29%  100%\n",
       "يونى ميكس - قطاع الخرسانة                       12%    16%  25%   47%  100%\n",
       "Total                                           27%    20%  30%   23%  100%"
      ]
     },
     "execution_count": 56,
     "metadata": {},
     "output_type": "execute_result"
    }
   ],
   "source": [
    "out.tail(10)"
   ]
  },
  {
   "cell_type": "code",
   "execution_count": 57,
   "id": "97d01db6",
   "metadata": {},
   "outputs": [],
   "source": [
    "#pivot table to make relatoin between pumped quantity and customer name\n",
    "table = pd.pivot_table(df, values='Pumped Quantity', index='Customer Name',  aggfunc=np.sum).fillna(0).sort_values(by='Pumped Quantity', ascending=False).head(20)"
   ]
  },
  {
   "cell_type": "code",
   "execution_count": 82,
   "id": "4b9aad84",
   "metadata": {},
   "outputs": [
    {
     "data": {
      "text/html": [
       "<div>\n",
       "<style scoped>\n",
       "    .dataframe tbody tr th:only-of-type {\n",
       "        vertical-align: middle;\n",
       "    }\n",
       "\n",
       "    .dataframe tbody tr th {\n",
       "        vertical-align: top;\n",
       "    }\n",
       "\n",
       "    .dataframe thead th {\n",
       "        text-align: right;\n",
       "    }\n",
       "</style>\n",
       "<table border=\"1\" class=\"dataframe\">\n",
       "  <thead>\n",
       "    <tr style=\"text-align: right;\">\n",
       "      <th></th>\n",
       "      <th>Pumped Quantity</th>\n",
       "    </tr>\n",
       "    <tr>\n",
       "      <th>Customer Name</th>\n",
       "      <th></th>\n",
       "    </tr>\n",
       "  </thead>\n",
       "  <tbody>\n",
       "    <tr>\n",
       "      <th>اوراسكوم للانشاءات</th>\n",
       "      <td>74750.8</td>\n",
       "    </tr>\n",
       "    <tr>\n",
       "      <th>ريديكون للتعمير</th>\n",
       "      <td>19373.0</td>\n",
       "    </tr>\n",
       "    <tr>\n",
       "      <th>اتحاد روادالهندسه الحديثه</th>\n",
       "      <td>12717.5</td>\n",
       "    </tr>\n",
       "    <tr>\n",
       "      <th>جاما للانشاءات</th>\n",
       "      <td>12110.5</td>\n",
       "    </tr>\n",
       "    <tr>\n",
       "      <th>عبد السلام عبد الحميد الفقى وشركاه</th>\n",
       "      <td>10492.0</td>\n",
       "    </tr>\n",
       "    <tr>\n",
       "      <th>دفكون للمقاولات و الانشاءات</th>\n",
       "      <td>7601.0</td>\n",
       "    </tr>\n",
       "    <tr>\n",
       "      <th>A.S.G.C. LLENSHAT</th>\n",
       "      <td>6996.5</td>\n",
       "    </tr>\n",
       "    <tr>\n",
       "      <th>اتش ايه للطرق والكبارى</th>\n",
       "      <td>6049.0</td>\n",
       "    </tr>\n",
       "    <tr>\n",
       "      <th>الحلول الذكية للتجارة والصناعة</th>\n",
       "      <td>4009.5</td>\n",
       "    </tr>\n",
       "    <tr>\n",
       "      <th>المقاولون العرب -عثمان احمد عثمان وشركاه</th>\n",
       "      <td>3588.0</td>\n",
       "    </tr>\n",
       "    <tr>\n",
       "      <th>دار العالمية للتشيد والبناء</th>\n",
       "      <td>2706.5</td>\n",
       "    </tr>\n",
       "    <tr>\n",
       "      <th>الرواء للمقاولات و التوريدات</th>\n",
       "      <td>2615.5</td>\n",
       "    </tr>\n",
       "    <tr>\n",
       "      <th>Greater Cairo Metro</th>\n",
       "      <td>2570.0</td>\n",
       "    </tr>\n",
       "    <tr>\n",
       "      <th>ايديكس الدولية للهندسة والمقاولات</th>\n",
       "      <td>2410.5</td>\n",
       "    </tr>\n",
       "    <tr>\n",
       "      <th>البدير للانشاءت</th>\n",
       "      <td>1480.0</td>\n",
       "    </tr>\n",
       "    <tr>\n",
       "      <th>يونى ميكس - قطاع الخرسانة</th>\n",
       "      <td>1326.5</td>\n",
       "    </tr>\n",
       "    <tr>\n",
       "      <th>شركه الحاذق</th>\n",
       "      <td>1232.0</td>\n",
       "    </tr>\n",
       "    <tr>\n",
       "      <th>DETAC</th>\n",
       "      <td>1189.0</td>\n",
       "    </tr>\n",
       "    <tr>\n",
       "      <th>تفاصيل  للانشاءات</th>\n",
       "      <td>974.0</td>\n",
       "    </tr>\n",
       "    <tr>\n",
       "      <th>جمعية مدينة نصر</th>\n",
       "      <td>970.5</td>\n",
       "    </tr>\n",
       "  </tbody>\n",
       "</table>\n",
       "</div>"
      ],
      "text/plain": [
       "                                          Pumped Quantity\n",
       "Customer Name                                            \n",
       "اوراسكوم للانشاءات                                74750.8\n",
       "ريديكون للتعمير                                   19373.0\n",
       "اتحاد روادالهندسه الحديثه                         12717.5\n",
       "جاما للانشاءات                                    12110.5\n",
       "عبد السلام عبد الحميد الفقى وشركاه                10492.0\n",
       "دفكون للمقاولات و الانشاءات                        7601.0\n",
       "A.S.G.C. LLENSHAT                                  6996.5\n",
       "اتش ايه للطرق والكبارى                             6049.0\n",
       "الحلول الذكية للتجارة والصناعة                     4009.5\n",
       "المقاولون العرب -عثمان احمد عثمان وشركاه           3588.0\n",
       "دار العالمية للتشيد والبناء                        2706.5\n",
       "الرواء للمقاولات و التوريدات                       2615.5\n",
       "Greater Cairo Metro                                2570.0\n",
       "ايديكس الدولية للهندسة والمقاولات                  2410.5\n",
       "البدير للانشاءت                                    1480.0\n",
       "يونى ميكس - قطاع الخرسانة                          1326.5\n",
       "شركه الحاذق                                        1232.0\n",
       "DETAC                                              1189.0\n",
       "تفاصيل  للانشاءات                                   974.0\n",
       "جمعية مدينة نصر                                     970.5"
      ]
     },
     "execution_count": 82,
     "metadata": {},
     "output_type": "execute_result"
    }
   ],
   "source": [
    "table"
   ]
  },
  {
   "cell_type": "code",
   "execution_count": 58,
   "id": "00f953df",
   "metadata": {},
   "outputs": [
    {
     "data": {
      "text/plain": [
       "Text(0, 0.5, 'Customer Name')"
      ]
     },
     "execution_count": 58,
     "metadata": {},
     "output_type": "execute_result"
    },
    {
     "data": {
      "image/png": "[encoded data removed]",
      "text/plain": [
       "<Figure size 432x288 with 1 Axes>"
      ]
     },
     "metadata": {
      "needs_background": "light"
     },
     "output_type": "display_data"
    }
   ],
   "source": [
    "sns.barplot(x='Pumped Quantity', y=table.index,data=table , palette=\"Blues_d\")\n",
    "plt.title('Customer Name based on Pumped Quantity')\n",
    "plt.xlabel('Pumped Quantity')\n",
    "plt.ylabel('Customer Name')"
   ]
  },
  {
   "cell_type": "code",
   "execution_count": 59,
   "id": "aaaafaf6",
   "metadata": {},
   "outputs": [
    {
     "data": {
      "text/plain": [
       "Text(0, 0.5, 'Order Quantity')"
      ]
     },
     "execution_count": 59,
     "metadata": {},
     "output_type": "execute_result"
    },
    {
     "data": {
      "image/png": "[encoded data removed]",
      "text/plain": [
       "<Figure size 432x288 with 1 Axes>"
      ]
     },
     "metadata": {
      "needs_background": "light"
     },
     "output_type": "display_data"
    }
   ],
   "source": [
    "#barplot to show Order Quantity per Month\n",
    "sns.barplot(x='الشهر', y ='Order Quantity', data=df)\n",
    "plt.title('Order Quantity per Month')\n",
    "plt.xlabel('Month')\n",
    "plt.ylabel('Order Quantity')"
   ]
  },
  {
   "cell_type": "code",
   "execution_count": 60,
   "id": "05a68e80",
   "metadata": {},
   "outputs": [
    {
     "data": {
      "text/html": [
       "<div>\n",
       "<style scoped>\n",
       "    .dataframe tbody tr th:only-of-type {\n",
       "        vertical-align: middle;\n",
       "    }\n",
       "\n",
       "    .dataframe tbody tr th {\n",
       "        vertical-align: top;\n",
       "    }\n",
       "\n",
       "    .dataframe thead th {\n",
       "        text-align: right;\n",
       "    }\n",
       "</style>\n",
       "<table border=\"1\" class=\"dataframe\">\n",
       "  <thead>\n",
       "    <tr style=\"text-align: right;\">\n",
       "      <th></th>\n",
       "      <th></th>\n",
       "      <th>Early Strength</th>\n",
       "    </tr>\n",
       "    <tr>\n",
       "      <th>Customer Name</th>\n",
       "      <th>Early Strength</th>\n",
       "      <th></th>\n",
       "    </tr>\n",
       "  </thead>\n",
       "  <tbody>\n",
       "    <tr>\n",
       "      <th rowspan=\"3\" valign=\"top\">اوراسكوم للانشاءات</th>\n",
       "      <th>3 Days Early Strength</th>\n",
       "      <td>740</td>\n",
       "    </tr>\n",
       "    <tr>\n",
       "      <th>7 Days Early Strength</th>\n",
       "      <td>449</td>\n",
       "    </tr>\n",
       "    <tr>\n",
       "      <th>5 Days Early Strength</th>\n",
       "      <td>265</td>\n",
       "    </tr>\n",
       "    <tr>\n",
       "      <th rowspan=\"2\" valign=\"top\">ريديكون للتعمير</th>\n",
       "      <th>3 Days Early Strength</th>\n",
       "      <td>190</td>\n",
       "    </tr>\n",
       "    <tr>\n",
       "      <th>7 Days Early Strength</th>\n",
       "      <td>169</td>\n",
       "    </tr>\n",
       "    <tr>\n",
       "      <th>اتحاد روادالهندسه الحديثه</th>\n",
       "      <th>3 Days Early Strength</th>\n",
       "      <td>160</td>\n",
       "    </tr>\n",
       "    <tr>\n",
       "      <th>دفكون للمقاولات و الانشاءات</th>\n",
       "      <th>3 Days Early Strength</th>\n",
       "      <td>110</td>\n",
       "    </tr>\n",
       "    <tr>\n",
       "      <th>اتحاد روادالهندسه الحديثه</th>\n",
       "      <th>7 Days Early Strength</th>\n",
       "      <td>103</td>\n",
       "    </tr>\n",
       "    <tr>\n",
       "      <th>عبد السلام عبد الحميد الفقى وشركاه</th>\n",
       "      <th>3 Days Early Strength</th>\n",
       "      <td>96</td>\n",
       "    </tr>\n",
       "    <tr>\n",
       "      <th>جاما للانشاءات</th>\n",
       "      <th>3 Days Early Strength</th>\n",
       "      <td>92</td>\n",
       "    </tr>\n",
       "  </tbody>\n",
       "</table>\n",
       "</div>"
      ],
      "text/plain": [
       "                                                          Early Strength\n",
       "Customer Name                      Early Strength                       \n",
       "اوراسكوم للانشاءات                 3 Days Early Strength             740\n",
       "                                   7 Days Early Strength             449\n",
       "                                   5 Days Early Strength             265\n",
       "ريديكون للتعمير                    3 Days Early Strength             190\n",
       "                                   7 Days Early Strength             169\n",
       "اتحاد روادالهندسه الحديثه          3 Days Early Strength             160\n",
       "دفكون للمقاولات و الانشاءات        3 Days Early Strength             110\n",
       "اتحاد روادالهندسه الحديثه          7 Days Early Strength             103\n",
       "عبد السلام عبد الحميد الفقى وشركاه 3 Days Early Strength              96\n",
       "جاما للانشاءات                     3 Days Early Strength              92"
      ]
     },
     "execution_count": 60,
     "metadata": {},
     "output_type": "execute_result"
    }
   ],
   "source": [
    "#count the customer names that ordered early strength \n",
    "pd.DataFrame(df.groupby('Customer Name')['Early Strength'].value_counts().sort_values(ascending = False)).head(10)"
   ]
  },
  {
   "cell_type": "code",
   "execution_count": 61,
   "id": "d48fb4d8",
   "metadata": {},
   "outputs": [
    {
     "data": {
      "text/plain": [
       "Text(0, 0.5, 'Order Quantity')"
      ]
     },
     "execution_count": 61,
     "metadata": {},
     "output_type": "execute_result"
    },
    {
     "data": {
      "image/png": "[encoded data removed]",
      "text/plain": [
       "<Figure size 432x288 with 1 Axes>"
      ]
     },
     "metadata": {
      "needs_background": "light"
     },
     "output_type": "display_data"
    }
   ],
   "source": [
    "#barplot to show Order Quantity and the working shifts\n",
    "sns.barplot(x='الورديه', y ='Order Quantity', data=df)\n",
    "plt.title('Order Quantity per Month')\n",
    "plt.xlabel('Month')\n",
    "plt.ylabel('Order Quantity')"
   ]
  },
  {
   "cell_type": "code",
   "execution_count": 3,
   "id": "8d59eead",
   "metadata": {},
   "outputs": [],
   "source": [
    "df2 = pd.read_excel('Prices.xlsx')"
   ]
  },
  {
   "cell_type": "code",
   "execution_count": 4,
   "id": "de5dc5dd",
   "metadata": {},
   "outputs": [
    {
     "data": {
      "text/html": [
       "<div>\n",
       "<style scoped>\n",
       "    .dataframe tbody tr th:only-of-type {\n",
       "        vertical-align: middle;\n",
       "    }\n",
       "\n",
       "    .dataframe tbody tr th {\n",
       "        vertical-align: top;\n",
       "    }\n",
       "\n",
       "    .dataframe thead th {\n",
       "        text-align: right;\n",
       "    }\n",
       "</style>\n",
       "<table border=\"1\" class=\"dataframe\">\n",
       "  <thead>\n",
       "    <tr style=\"text-align: right;\">\n",
       "      <th></th>\n",
       "      <th>Customer Name</th>\n",
       "      <th>Cement Type</th>\n",
       "      <th>Project Location</th>\n",
       "      <th>Price</th>\n",
       "      <th>Valid From</th>\n",
       "      <th>Valid To</th>\n",
       "      <th>Project Location.1</th>\n",
       "      <th>NOTES</th>\n",
       "    </tr>\n",
       "  </thead>\n",
       "  <tbody>\n",
       "    <tr>\n",
       "      <th>0</th>\n",
       "      <td>A.S.G.C. LLENSHAT</td>\n",
       "      <td>C/150/OPC/C</td>\n",
       "      <td>الشعفار</td>\n",
       "      <td>120</td>\n",
       "      <td>01.01.2021</td>\n",
       "      <td>03.01.2022</td>\n",
       "      <td>الشعفار</td>\n",
       "      <td>NaN</td>\n",
       "    </tr>\n",
       "    <tr>\n",
       "      <th>1</th>\n",
       "      <td>A.S.G.C. LLENSHAT</td>\n",
       "      <td>C/150/OPC/C</td>\n",
       "      <td>الشعفار</td>\n",
       "      <td>115</td>\n",
       "      <td>04.01.2022</td>\n",
       "      <td>16.01.2022</td>\n",
       "      <td>مجرى العيون</td>\n",
       "      <td>Higher than الشعفار by 15 EGP</td>\n",
       "    </tr>\n",
       "    <tr>\n",
       "      <th>2</th>\n",
       "      <td>A.S.G.C. LLENSHAT</td>\n",
       "      <td>C/150/OPC/C</td>\n",
       "      <td>الشعفار</td>\n",
       "      <td>110</td>\n",
       "      <td>16.01.2022</td>\n",
       "      <td>31.12.9999</td>\n",
       "      <td>الكيت كات</td>\n",
       "      <td>NaN</td>\n",
       "    </tr>\n",
       "    <tr>\n",
       "      <th>3</th>\n",
       "      <td>A.S.G.C. LLENSHAT</td>\n",
       "      <td>C0/150/OPC</td>\n",
       "      <td>الشعفار</td>\n",
       "      <td>150</td>\n",
       "      <td>01.01.2021</td>\n",
       "      <td>03.01.2022</td>\n",
       "      <td>سيتاديل</td>\n",
       "      <td>NaN</td>\n",
       "    </tr>\n",
       "    <tr>\n",
       "      <th>4</th>\n",
       "      <td>A.S.G.C. LLENSHAT</td>\n",
       "      <td>C0/150/OPC</td>\n",
       "      <td>الشعفار</td>\n",
       "      <td>145</td>\n",
       "      <td>04.01.2022</td>\n",
       "      <td>16.01.2022</td>\n",
       "      <td>imbaba workshop</td>\n",
       "      <td>Higher than ماسبيرو By 12 EGP</td>\n",
       "    </tr>\n",
       "  </tbody>\n",
       "</table>\n",
       "</div>"
      ],
      "text/plain": [
       "       Customer Name  Cement Type Project Location  Price  Valid From  \\\n",
       "0  A.S.G.C. LLENSHAT  C/150/OPC/C          الشعفار    120  01.01.2021   \n",
       "1  A.S.G.C. LLENSHAT  C/150/OPC/C          الشعفار    115  04.01.2022   \n",
       "2  A.S.G.C. LLENSHAT  C/150/OPC/C          الشعفار    110  16.01.2022   \n",
       "3  A.S.G.C. LLENSHAT   C0/150/OPC          الشعفار    150  01.01.2021   \n",
       "4  A.S.G.C. LLENSHAT   C0/150/OPC          الشعفار    145  04.01.2022   \n",
       "\n",
       "     Valid To Project Location.1                          NOTES  \n",
       "0  03.01.2022            الشعفار                            NaN  \n",
       "1  16.01.2022        مجرى العيون  Higher than الشعفار by 15 EGP  \n",
       "2  31.12.9999          الكيت كات                            NaN  \n",
       "3  03.01.2022           سيتاديل                             NaN  \n",
       "4  16.01.2022    imbaba workshop  Higher than ماسبيرو By 12 EGP  "
      ]
     },
     "execution_count": 4,
     "metadata": {},
     "output_type": "execute_result"
    }
   ],
   "source": [
    "df2.head()"
   ]
  },
  {
   "cell_type": "code",
   "execution_count": 5,
   "id": "59a4ce34",
   "metadata": {},
   "outputs": [
    {
     "data": {
      "text/plain": [
       "count    184.000000\n",
       "mean     172.875000\n",
       "std       32.107242\n",
       "min      110.000000\n",
       "25%      149.250000\n",
       "50%      170.500000\n",
       "75%      194.000000\n",
       "max      252.000000\n",
       "Name: Price, dtype: float64"
      ]
     },
     "execution_count": 5,
     "metadata": {},
     "output_type": "execute_result"
    }
   ],
   "source": [
    "df2.Price.describe()"
   ]
  },
  {
   "cell_type": "code",
   "execution_count": 6,
   "id": "cdb8cc65",
   "metadata": {},
   "outputs": [],
   "source": [
    "table = pd.pivot_table(df2, values='Price', index='Customer Name',  aggfunc=np.sum).fillna(0).sort_values(by='Customer Name', ascending=False).head(20)"
   ]
  },
  {
   "cell_type": "code",
   "execution_count": 7,
   "id": "6a2f4c3a",
   "metadata": {},
   "outputs": [
    {
     "data": {
      "text/plain": [
       "Text(0, 0.5, 'Customer Name')"
      ]
     },
     "execution_count": 7,
     "metadata": {},
     "output_type": "execute_result"
    },
    {
     "data": {
      "image/png": "[encoded data removed]",
      "text/plain": [
       "<Figure size 432x288 with 1 Axes>"
      ]
     },
     "metadata": {
      "needs_background": "light"
     },
     "output_type": "display_data"
    }
   ],
   "source": [
    "sns.barplot(x='Price', y=table.index,data=table , palette=\"Blues_d\")\n",
    "plt.title('Customer Name based on Price')\n",
    "plt.xlabel('Price')\n",
    "plt.ylabel('Customer Name')"
   ]
  }
 ],
 "metadata": {
  "kernelspec": {
   "display_name": "Python 3 (ipykernel)",
   "language": "python",
   "name": "python3"
  },
  "language_info": {
   "codemirror_mode": {
    "name": "ipython",
    "version": 3
   },
   "file_extension": ".py",
   "mimetype": "text/x-python",
   "name": "python",
   "nbconvert_exporter": "python",
   "pygments_lexer": "ipython3",
   "version": "3.9.12"
  }
 },
 "nbformat": 4,
 "nbformat_minor": 5
}
